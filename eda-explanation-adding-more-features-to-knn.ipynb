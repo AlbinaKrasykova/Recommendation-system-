{
 "cells": [
  {
   "cell_type": "code",
   "execution_count": 1,
   "id": "7405a7b5",
   "metadata": {
    "_cell_guid": "b1076dfc-b9ad-4769-8c92-a6c4dae69d19",
    "_uuid": "8f2839f25d086af736a60e9eeb907d3b93b6e0e5",
    "execution": {
     "iopub.execute_input": "2023-03-04T00:58:47.136128Z",
     "iopub.status.busy": "2023-03-04T00:58:47.135674Z",
     "iopub.status.idle": "2023-03-04T00:58:47.154366Z",
     "shell.execute_reply": "2023-03-04T00:58:47.153061Z"
    },
    "papermill": {
     "duration": 0.043101,
     "end_time": "2023-03-04T00:58:47.157671",
     "exception": false,
     "start_time": "2023-03-04T00:58:47.114570",
     "status": "completed"
    },
    "tags": []
   },
   "outputs": [
    {
     "name": "stdout",
     "output_type": "stream",
     "text": [
      "/kaggle/input/breakthrough-tech-ai-studio-challenge/sample_submission.csv\n",
      "/kaggle/input/breakthrough-tech-ai-studio-challenge/movies_keywords.csv\n",
      "/kaggle/input/breakthrough-tech-ai-studio-challenge/movies_metadata.csv\n",
      "/kaggle/input/breakthrough-tech-ai-studio-challenge/train.csv\n",
      "/kaggle/input/breakthrough-tech-ai-studio-challenge/test.csv\n"
     ]
    }
   ],
   "source": [
    "# This Python 3 environment comes with many helpful analytics libraries installed\n",
    "# It is defined by the kaggle/python Docker image: https://github.com/kaggle/docker-python\n",
    "# For example, here's several helpful packages to load\n",
    "\n",
    "import numpy as np # linear algebra\n",
    "import pandas as pd # data processing, CSV file I/O (e.g. pd.read_csv)\n",
    "\n",
    "# Input data files are available in the read-only \"../input/\" directory\n",
    "# For example, running this (by clicking run or pressing Shift+Enter) will list all files under the input directory\n",
    "\n",
    "import os\n",
    "for dirname, _, filenames in os.walk('/kaggle/input'):\n",
    "    for filename in filenames:\n",
    "        print(os.path.join(dirname, filename))\n",
    "\n",
    "# You can write up to 20GB to the current directory (/kaggle/working/) that gets preserved as output when you create a version using \"Save & Run All\" \n",
    "# You can also write temporary files to /kaggle/temp/, but they won't be saved outside of the current session"
   ]
  },
  {
   "cell_type": "code",
   "execution_count": 2,
   "id": "805fa229",
   "metadata": {
    "execution": {
     "iopub.execute_input": "2023-03-04T00:58:47.197628Z",
     "iopub.status.busy": "2023-03-04T00:58:47.197234Z",
     "iopub.status.idle": "2023-03-04T00:58:48.244770Z",
     "shell.execute_reply": "2023-03-04T00:58:48.243765Z"
    },
    "papermill": {
     "duration": 1.071383,
     "end_time": "2023-03-04T00:58:48.247563",
     "exception": false,
     "start_time": "2023-03-04T00:58:47.176180",
     "status": "completed"
    },
    "tags": []
   },
   "outputs": [],
   "source": [
    "# The goal is to buid KNN\n",
    "#Add more features \n",
    "#renmee features\n",
    "#extract more features from the data\n",
    "#treat outliers\n",
    "df = pd.read_csv(\"/kaggle/input/breakthrough-tech-ai-studio-challenge/train.csv\")\n",
    "df_meta = pd.read_csv(\"/kaggle/input/breakthrough-tech-ai-studio-challenge/movies_metadata.csv\")"
   ]
  },
  {
   "cell_type": "markdown",
   "id": "506a3d45",
   "metadata": {
    "papermill": {
     "duration": 0.01706,
     "end_time": "2023-03-04T00:58:48.281968",
     "exception": false,
     "start_time": "2023-03-04T00:58:48.264908",
     "status": "completed"
    },
    "tags": []
   },
   "source": [
    "> ****Machine Learning Plan \n",
    "\n",
    "0. Buisness Case understanding \n",
    "1. Data Understanding  \n",
    "2. Data preprocessign ( Visualization of Data, Detecting Outliers and missing values, Treating outliers, feature engineering)\n",
    "3. Cleaning Data\n",
    "4. Feature importance tecniques \n",
    "5. Correlation matrix \n"
   ]
  },
  {
   "cell_type": "markdown",
   "id": "e1cafc04",
   "metadata": {
    "papermill": {
     "duration": 0.016854,
     "end_time": "2023-03-04T00:58:48.316427",
     "exception": false,
     "start_time": "2023-03-04T00:58:48.299573",
     "status": "completed"
    },
    "tags": []
   },
   "source": [
    "EDA \n",
    "Goal of EDA: to clean dataset, get an understading of features, detect outliers and missing values and get the max insights on the data overall.\n",
    "1. "
   ]
  },
  {
   "cell_type": "code",
   "execution_count": 3,
   "id": "76348555",
   "metadata": {
    "execution": {
     "iopub.execute_input": "2023-03-04T00:58:48.353351Z",
     "iopub.status.busy": "2023-03-04T00:58:48.352076Z",
     "iopub.status.idle": "2023-03-04T00:58:48.380705Z",
     "shell.execute_reply": "2023-03-04T00:58:48.378930Z"
    },
    "papermill": {
     "duration": 0.049772,
     "end_time": "2023-03-04T00:58:48.383317",
     "exception": false,
     "start_time": "2023-03-04T00:58:48.333545",
     "status": "completed"
    },
    "tags": []
   },
   "outputs": [
    {
     "name": "stdout",
     "output_type": "stream",
     "text": [
      "<class 'pandas.core.frame.DataFrame'>\n",
      "RangeIndex: 70002 entries, 0 to 70001\n",
      "Data columns (total 2 columns):\n",
      " #   Column          Non-Null Count  Dtype  \n",
      "---  ------          --------------  -----  \n",
      " 0   userId_movieId  70002 non-null  object \n",
      " 1   rating          70002 non-null  float64\n",
      "dtypes: float64(1), object(1)\n",
      "memory usage: 1.1+ MB\n"
     ]
    }
   ],
   "source": [
    "df.info()"
   ]
  },
  {
   "cell_type": "code",
   "execution_count": 4,
   "id": "7b315d2e",
   "metadata": {
    "execution": {
     "iopub.execute_input": "2023-03-04T00:58:48.420389Z",
     "iopub.status.busy": "2023-03-04T00:58:48.419958Z",
     "iopub.status.idle": "2023-03-04T00:58:48.444418Z",
     "shell.execute_reply": "2023-03-04T00:58:48.442939Z"
    },
    "papermill": {
     "duration": 0.046588,
     "end_time": "2023-03-04T00:58:48.447179",
     "exception": false,
     "start_time": "2023-03-04T00:58:48.400591",
     "status": "completed"
    },
    "tags": []
   },
   "outputs": [
    {
     "data": {
      "text/html": [
       "<div>\n",
       "<style scoped>\n",
       "    .dataframe tbody tr th:only-of-type {\n",
       "        vertical-align: middle;\n",
       "    }\n",
       "\n",
       "    .dataframe tbody tr th {\n",
       "        vertical-align: top;\n",
       "    }\n",
       "\n",
       "    .dataframe thead th {\n",
       "        text-align: right;\n",
       "    }\n",
       "</style>\n",
       "<table border=\"1\" class=\"dataframe\">\n",
       "  <thead>\n",
       "    <tr style=\"text-align: right;\">\n",
       "      <th></th>\n",
       "      <th>userId_movieId</th>\n",
       "      <th>rating</th>\n",
       "    </tr>\n",
       "  </thead>\n",
       "  <tbody>\n",
       "    <tr>\n",
       "      <th>0</th>\n",
       "      <td>10_1358</td>\n",
       "      <td>0.4</td>\n",
       "    </tr>\n",
       "    <tr>\n",
       "      <th>1</th>\n",
       "      <td>237_1544</td>\n",
       "      <td>0.7</td>\n",
       "    </tr>\n",
       "    <tr>\n",
       "      <th>2</th>\n",
       "      <td>54_373</td>\n",
       "      <td>1.0</td>\n",
       "    </tr>\n",
       "  </tbody>\n",
       "</table>\n",
       "</div>"
      ],
      "text/plain": [
       "  userId_movieId  rating\n",
       "0        10_1358     0.4\n",
       "1       237_1544     0.7\n",
       "2         54_373     1.0"
      ]
     },
     "execution_count": 4,
     "metadata": {},
     "output_type": "execute_result"
    }
   ],
   "source": [
    "df.head(3)"
   ]
  },
  {
   "cell_type": "code",
   "execution_count": 5,
   "id": "680f2b0d",
   "metadata": {
    "execution": {
     "iopub.execute_input": "2023-03-04T00:58:48.485097Z",
     "iopub.status.busy": "2023-03-04T00:58:48.484269Z",
     "iopub.status.idle": "2023-03-04T00:58:48.539701Z",
     "shell.execute_reply": "2023-03-04T00:58:48.538273Z"
    },
    "papermill": {
     "duration": 0.077245,
     "end_time": "2023-03-04T00:58:48.542427",
     "exception": false,
     "start_time": "2023-03-04T00:58:48.465182",
     "status": "completed"
    },
    "tags": []
   },
   "outputs": [
    {
     "name": "stdout",
     "output_type": "stream",
     "text": [
      "<class 'pandas.core.frame.DataFrame'>\n",
      "RangeIndex: 45383 entries, 0 to 45382\n",
      "Data columns (total 24 columns):\n",
      " #   Column                 Non-Null Count  Dtype  \n",
      "---  ------                 --------------  -----  \n",
      " 0   adult                  45383 non-null  bool   \n",
      " 1   belongs_to_collection  4486 non-null   object \n",
      " 2   budget                 45383 non-null  int64  \n",
      " 3   genres                 45383 non-null  object \n",
      " 4   homepage               7765 non-null   object \n",
      " 5   id                     45383 non-null  int64  \n",
      " 6   imdb_id                45383 non-null  object \n",
      " 7   original_language      45372 non-null  object \n",
      " 8   original_title         45383 non-null  object \n",
      " 9   overview               44433 non-null  object \n",
      " 10  popularity             45380 non-null  float64\n",
      " 11  poster_path            45005 non-null  object \n",
      " 12  production_companies   45380 non-null  object \n",
      " 13  production_countries   45380 non-null  object \n",
      " 14  release_date           45302 non-null  object \n",
      " 15  revenue                45380 non-null  float64\n",
      " 16  runtime                45125 non-null  float64\n",
      " 17  spoken_languages       45380 non-null  object \n",
      " 18  status                 45300 non-null  object \n",
      " 19  tagline                20388 non-null  object \n",
      " 20  title                  45380 non-null  object \n",
      " 21  video                  45380 non-null  object \n",
      " 22  vote_average           45380 non-null  float64\n",
      " 23  vote_count             45380 non-null  float64\n",
      "dtypes: bool(1), float64(5), int64(2), object(16)\n",
      "memory usage: 8.0+ MB\n"
     ]
    }
   ],
   "source": [
    "df_meta.info()"
   ]
  },
  {
   "cell_type": "code",
   "execution_count": 6,
   "id": "23470d1a",
   "metadata": {
    "execution": {
     "iopub.execute_input": "2023-03-04T00:58:48.580336Z",
     "iopub.status.busy": "2023-03-04T00:58:48.579507Z",
     "iopub.status.idle": "2023-03-04T00:58:48.608116Z",
     "shell.execute_reply": "2023-03-04T00:58:48.606921Z"
    },
    "papermill": {
     "duration": 0.050386,
     "end_time": "2023-03-04T00:58:48.610581",
     "exception": false,
     "start_time": "2023-03-04T00:58:48.560195",
     "status": "completed"
    },
    "tags": []
   },
   "outputs": [
    {
     "data": {
      "text/html": [
       "<div>\n",
       "<style scoped>\n",
       "    .dataframe tbody tr th:only-of-type {\n",
       "        vertical-align: middle;\n",
       "    }\n",
       "\n",
       "    .dataframe tbody tr th {\n",
       "        vertical-align: top;\n",
       "    }\n",
       "\n",
       "    .dataframe thead th {\n",
       "        text-align: right;\n",
       "    }\n",
       "</style>\n",
       "<table border=\"1\" class=\"dataframe\">\n",
       "  <thead>\n",
       "    <tr style=\"text-align: right;\">\n",
       "      <th></th>\n",
       "      <th>adult</th>\n",
       "      <th>belongs_to_collection</th>\n",
       "      <th>budget</th>\n",
       "      <th>genres</th>\n",
       "      <th>homepage</th>\n",
       "      <th>id</th>\n",
       "      <th>imdb_id</th>\n",
       "      <th>original_language</th>\n",
       "      <th>original_title</th>\n",
       "      <th>overview</th>\n",
       "      <th>...</th>\n",
       "      <th>release_date</th>\n",
       "      <th>revenue</th>\n",
       "      <th>runtime</th>\n",
       "      <th>spoken_languages</th>\n",
       "      <th>status</th>\n",
       "      <th>tagline</th>\n",
       "      <th>title</th>\n",
       "      <th>video</th>\n",
       "      <th>vote_average</th>\n",
       "      <th>vote_count</th>\n",
       "    </tr>\n",
       "  </thead>\n",
       "  <tbody>\n",
       "    <tr>\n",
       "      <th>0</th>\n",
       "      <td>False</td>\n",
       "      <td>{'id': 10194, 'name': 'Toy Story Collection', ...</td>\n",
       "      <td>30000000</td>\n",
       "      <td>[{'id': 16, 'name': 'Animation'}, {'id': 35, '...</td>\n",
       "      <td>http://toystory.disney.com/toy-story</td>\n",
       "      <td>1</td>\n",
       "      <td>tt0114709</td>\n",
       "      <td>en</td>\n",
       "      <td>Toy Story</td>\n",
       "      <td>Led by Woody, Andy's toys live happily in his ...</td>\n",
       "      <td>...</td>\n",
       "      <td>1995-10-30</td>\n",
       "      <td>373554033.0</td>\n",
       "      <td>81.0</td>\n",
       "      <td>[{'iso_639_1': 'en', 'name': 'English'}]</td>\n",
       "      <td>Released</td>\n",
       "      <td>NaN</td>\n",
       "      <td>Toy Story</td>\n",
       "      <td>False</td>\n",
       "      <td>7.7</td>\n",
       "      <td>5415.0</td>\n",
       "    </tr>\n",
       "    <tr>\n",
       "      <th>1</th>\n",
       "      <td>False</td>\n",
       "      <td>NaN</td>\n",
       "      <td>65000000</td>\n",
       "      <td>[{'id': 12, 'name': 'Adventure'}, {'id': 14, '...</td>\n",
       "      <td>NaN</td>\n",
       "      <td>2</td>\n",
       "      <td>tt0113497</td>\n",
       "      <td>en</td>\n",
       "      <td>Jumanji</td>\n",
       "      <td>When siblings Judy and Peter discover an encha...</td>\n",
       "      <td>...</td>\n",
       "      <td>1995-12-15</td>\n",
       "      <td>262797249.0</td>\n",
       "      <td>104.0</td>\n",
       "      <td>[{'iso_639_1': 'en', 'name': 'English'}, {'iso...</td>\n",
       "      <td>Released</td>\n",
       "      <td>Roll the dice and unleash the excitement!</td>\n",
       "      <td>Jumanji</td>\n",
       "      <td>False</td>\n",
       "      <td>6.9</td>\n",
       "      <td>2413.0</td>\n",
       "    </tr>\n",
       "    <tr>\n",
       "      <th>2</th>\n",
       "      <td>False</td>\n",
       "      <td>{'id': 119050, 'name': 'Grumpy Old Men Collect...</td>\n",
       "      <td>0</td>\n",
       "      <td>[{'id': 10749, 'name': 'Romance'}, {'id': 35, ...</td>\n",
       "      <td>NaN</td>\n",
       "      <td>3</td>\n",
       "      <td>tt0113228</td>\n",
       "      <td>en</td>\n",
       "      <td>Grumpier Old Men</td>\n",
       "      <td>A family wedding reignites the ancient feud be...</td>\n",
       "      <td>...</td>\n",
       "      <td>1995-12-22</td>\n",
       "      <td>0.0</td>\n",
       "      <td>101.0</td>\n",
       "      <td>[{'iso_639_1': 'en', 'name': 'English'}]</td>\n",
       "      <td>Released</td>\n",
       "      <td>Still Yelling. Still Fighting. Still Ready for...</td>\n",
       "      <td>Grumpier Old Men</td>\n",
       "      <td>False</td>\n",
       "      <td>6.5</td>\n",
       "      <td>92.0</td>\n",
       "    </tr>\n",
       "  </tbody>\n",
       "</table>\n",
       "<p>3 rows × 24 columns</p>\n",
       "</div>"
      ],
      "text/plain": [
       "   adult                              belongs_to_collection    budget  \\\n",
       "0  False  {'id': 10194, 'name': 'Toy Story Collection', ...  30000000   \n",
       "1  False                                                NaN  65000000   \n",
       "2  False  {'id': 119050, 'name': 'Grumpy Old Men Collect...         0   \n",
       "\n",
       "                                              genres  \\\n",
       "0  [{'id': 16, 'name': 'Animation'}, {'id': 35, '...   \n",
       "1  [{'id': 12, 'name': 'Adventure'}, {'id': 14, '...   \n",
       "2  [{'id': 10749, 'name': 'Romance'}, {'id': 35, ...   \n",
       "\n",
       "                               homepage  id    imdb_id original_language  \\\n",
       "0  http://toystory.disney.com/toy-story   1  tt0114709                en   \n",
       "1                                   NaN   2  tt0113497                en   \n",
       "2                                   NaN   3  tt0113228                en   \n",
       "\n",
       "     original_title                                           overview  ...  \\\n",
       "0         Toy Story  Led by Woody, Andy's toys live happily in his ...  ...   \n",
       "1           Jumanji  When siblings Judy and Peter discover an encha...  ...   \n",
       "2  Grumpier Old Men  A family wedding reignites the ancient feud be...  ...   \n",
       "\n",
       "   release_date      revenue runtime  \\\n",
       "0    1995-10-30  373554033.0    81.0   \n",
       "1    1995-12-15  262797249.0   104.0   \n",
       "2    1995-12-22          0.0   101.0   \n",
       "\n",
       "                                    spoken_languages    status  \\\n",
       "0           [{'iso_639_1': 'en', 'name': 'English'}]  Released   \n",
       "1  [{'iso_639_1': 'en', 'name': 'English'}, {'iso...  Released   \n",
       "2           [{'iso_639_1': 'en', 'name': 'English'}]  Released   \n",
       "\n",
       "                                             tagline             title  video  \\\n",
       "0                                                NaN         Toy Story  False   \n",
       "1          Roll the dice and unleash the excitement!           Jumanji  False   \n",
       "2  Still Yelling. Still Fighting. Still Ready for...  Grumpier Old Men  False   \n",
       "\n",
       "  vote_average vote_count  \n",
       "0          7.7     5415.0  \n",
       "1          6.9     2413.0  \n",
       "2          6.5       92.0  \n",
       "\n",
       "[3 rows x 24 columns]"
      ]
     },
     "execution_count": 6,
     "metadata": {},
     "output_type": "execute_result"
    }
   ],
   "source": [
    "df_meta.head(3)"
   ]
  },
  {
   "cell_type": "markdown",
   "id": "3eda7eb7",
   "metadata": {
    "papermill": {
     "duration": 0.01787,
     "end_time": "2023-03-04T00:58:48.646887",
     "exception": false,
     "start_time": "2023-03-04T00:58:48.629017",
     "status": "completed"
    },
    "tags": []
   },
   "source": [
    "# **Detect and handle missing values and outliers**"
   ]
  },
  {
   "cell_type": "code",
   "execution_count": 7,
   "id": "1e0e0315",
   "metadata": {
    "execution": {
     "iopub.execute_input": "2023-03-04T00:58:48.685130Z",
     "iopub.status.busy": "2023-03-04T00:58:48.684688Z",
     "iopub.status.idle": "2023-03-04T00:58:48.734566Z",
     "shell.execute_reply": "2023-03-04T00:58:48.733329Z"
    },
    "papermill": {
     "duration": 0.071788,
     "end_time": "2023-03-04T00:58:48.736831",
     "exception": false,
     "start_time": "2023-03-04T00:58:48.665043",
     "status": "completed"
    },
    "tags": []
   },
   "outputs": [
    {
     "data": {
      "text/plain": [
       "adult                        0\n",
       "belongs_to_collection    40897\n",
       "budget                       0\n",
       "genres                       0\n",
       "homepage                 37618\n",
       "id                           0\n",
       "imdb_id                      0\n",
       "original_language           11\n",
       "original_title               0\n",
       "overview                   950\n",
       "popularity                   3\n",
       "poster_path                378\n",
       "production_companies         3\n",
       "production_countries         3\n",
       "release_date                81\n",
       "revenue                      3\n",
       "runtime                    258\n",
       "spoken_languages             3\n",
       "status                      83\n",
       "tagline                  24995\n",
       "title                        3\n",
       "video                        3\n",
       "vote_average                 3\n",
       "vote_count                   3\n",
       "dtype: int64"
      ]
     },
     "execution_count": 7,
     "metadata": {},
     "output_type": "execute_result"
    }
   ],
   "source": [
    "df_meta.isnull().sum()\n",
    "# budget, genres, popularity , revenue, spoken_languages, title, adult , vote_average, vote_count  "
   ]
  },
  {
   "cell_type": "markdown",
   "id": "bc65c203",
   "metadata": {
    "papermill": {
     "duration": 0.018045,
     "end_time": "2023-03-04T00:58:48.772895",
     "exception": false,
     "start_time": "2023-03-04T00:58:48.754850",
     "status": "completed"
    },
    "tags": []
   },
   "source": [
    "**Creating new datframe with the most relevant features**"
   ]
  },
  {
   "cell_type": "code",
   "execution_count": 8,
   "id": "e72e9c1d",
   "metadata": {
    "execution": {
     "iopub.execute_input": "2023-03-04T00:58:48.811414Z",
     "iopub.status.busy": "2023-03-04T00:58:48.810718Z",
     "iopub.status.idle": "2023-03-04T00:58:48.822458Z",
     "shell.execute_reply": "2023-03-04T00:58:48.821282Z"
    },
    "papermill": {
     "duration": 0.033655,
     "end_time": "2023-03-04T00:58:48.824920",
     "exception": false,
     "start_time": "2023-03-04T00:58:48.791265",
     "status": "completed"
    },
    "tags": []
   },
   "outputs": [],
   "source": [
    "#budget, genres, popularity , revenue, spoken_languages, title, adult , vote_average, vote_count, overview  \n",
    "new_df_meta = df_meta[['budget','genres','popularity','revenue','vote_average','vote_count','original_title','overview']].copy()"
   ]
  },
  {
   "cell_type": "markdown",
   "id": "63dbaafd",
   "metadata": {
    "papermill": {
     "duration": 0.01771,
     "end_time": "2023-03-04T00:58:48.860590",
     "exception": false,
     "start_time": "2023-03-04T00:58:48.842880",
     "status": "completed"
    },
    "tags": []
   },
   "source": [
    "# Detecting nulls "
   ]
  },
  {
   "cell_type": "code",
   "execution_count": 9,
   "id": "68757d01",
   "metadata": {
    "execution": {
     "iopub.execute_input": "2023-03-04T00:58:48.898399Z",
     "iopub.status.busy": "2023-03-04T00:58:48.897935Z",
     "iopub.status.idle": "2023-03-04T00:58:48.918263Z",
     "shell.execute_reply": "2023-03-04T00:58:48.917167Z"
    },
    "papermill": {
     "duration": 0.042167,
     "end_time": "2023-03-04T00:58:48.920633",
     "exception": false,
     "start_time": "2023-03-04T00:58:48.878466",
     "status": "completed"
    },
    "tags": []
   },
   "outputs": [
    {
     "data": {
      "text/plain": [
       "budget              0\n",
       "genres              0\n",
       "popularity          3\n",
       "revenue             3\n",
       "vote_average        3\n",
       "vote_count          3\n",
       "original_title      0\n",
       "overview          950\n",
       "dtype: int64"
      ]
     },
     "execution_count": 9,
     "metadata": {},
     "output_type": "execute_result"
    }
   ],
   "source": [
    "new_df_meta.isnull().sum()"
   ]
  },
  {
   "cell_type": "markdown",
   "id": "f7f05eeb",
   "metadata": {
    "papermill": {
     "duration": 0.017987,
     "end_time": "2023-03-04T00:58:48.956903",
     "exception": false,
     "start_time": "2023-03-04T00:58:48.938916",
     "status": "completed"
    },
    "tags": []
   },
   "source": [
    "# Filling nulls with mean"
   ]
  },
  {
   "cell_type": "code",
   "execution_count": 10,
   "id": "e5c6204a",
   "metadata": {
    "execution": {
     "iopub.execute_input": "2023-03-04T00:58:48.996093Z",
     "iopub.status.busy": "2023-03-04T00:58:48.995213Z",
     "iopub.status.idle": "2023-03-04T00:58:49.006206Z",
     "shell.execute_reply": "2023-03-04T00:58:49.005008Z"
    },
    "papermill": {
     "duration": 0.033511,
     "end_time": "2023-03-04T00:58:49.008811",
     "exception": false,
     "start_time": "2023-03-04T00:58:48.975300",
     "status": "completed"
    },
    "tags": []
   },
   "outputs": [],
   "source": [
    "#treat misisng values with mean for popularity \n",
    "mean = new_df_meta['popularity'].mean() \n",
    "new_df_meta['popularity'].fillna(value = mean, inplace=True)\n",
    "\n",
    "#treat misisng values with mean revenue\n",
    "mean = new_df_meta['revenue'].mean() \n",
    "new_df_meta['revenue'].fillna(value = mean, inplace=True)\n",
    "\n",
    "#treat misisng values with mean vote_average\n",
    "mean = new_df_meta['vote_average'].mean() \n",
    "new_df_meta['vote_average'].fillna(value = mean, inplace=True)\n",
    "\n",
    "#treat misisng values with mean vote_count\n",
    "mean = new_df_meta['vote_count'].mean() \n",
    "new_df_meta['vote_count'].fillna(value = mean, inplace=True)\n"
   ]
  },
  {
   "cell_type": "code",
   "execution_count": 11,
   "id": "d0e63f85",
   "metadata": {
    "execution": {
     "iopub.execute_input": "2023-03-04T00:58:49.047502Z",
     "iopub.status.busy": "2023-03-04T00:58:49.046635Z",
     "iopub.status.idle": "2023-03-04T00:58:49.067573Z",
     "shell.execute_reply": "2023-03-04T00:58:49.066644Z"
    },
    "papermill": {
     "duration": 0.042857,
     "end_time": "2023-03-04T00:58:49.070065",
     "exception": false,
     "start_time": "2023-03-04T00:58:49.027208",
     "status": "completed"
    },
    "tags": []
   },
   "outputs": [
    {
     "data": {
      "text/plain": [
       "budget              0\n",
       "genres              0\n",
       "popularity          0\n",
       "revenue             0\n",
       "vote_average        0\n",
       "vote_count          0\n",
       "original_title      0\n",
       "overview          950\n",
       "dtype: int64"
      ]
     },
     "execution_count": 11,
     "metadata": {},
     "output_type": "execute_result"
    }
   ],
   "source": [
    "#checking values again \n",
    "new_df_meta.isnull().sum()"
   ]
  },
  {
   "cell_type": "markdown",
   "id": "e2482216",
   "metadata": {
    "papermill": {
     "duration": 0.017892,
     "end_time": "2023-03-04T00:58:49.106297",
     "exception": false,
     "start_time": "2023-03-04T00:58:49.088405",
     "status": "completed"
    },
    "tags": []
   },
   "source": [
    "# Visualization of data for spoting outliers "
   ]
  },
  {
   "cell_type": "code",
   "execution_count": 12,
   "id": "3f345191",
   "metadata": {
    "execution": {
     "iopub.execute_input": "2023-03-04T00:58:49.144618Z",
     "iopub.status.busy": "2023-03-04T00:58:49.144215Z",
     "iopub.status.idle": "2023-03-04T00:58:50.873832Z",
     "shell.execute_reply": "2023-03-04T00:58:50.872541Z"
    },
    "papermill": {
     "duration": 1.752082,
     "end_time": "2023-03-04T00:58:50.876559",
     "exception": false,
     "start_time": "2023-03-04T00:58:49.124477",
     "status": "completed"
    },
    "tags": []
   },
   "outputs": [
    {
     "data": {
      "text/plain": [
       "[Text(0.5, 1.0, 'Box Plot of Scores')]"
      ]
     },
     "execution_count": 12,
     "metadata": {},
     "output_type": "execute_result"
    },
    {
     "data": {
      "image/png": "[encoded data removed]",
      "text/plain": [
       "<Figure size 640x480 with 1 Axes>"
      ]
     },
     "metadata": {},
     "output_type": "display_data"
    }
   ],
   "source": [
    "import seaborn as sns\n",
    "sns.boxplot(data=df_meta).set(title=\"Box Plot of Scores\")\n",
    "#Outliers spotted in Budget and revenue "
   ]
  },
  {
   "cell_type": "code",
   "execution_count": 13,
   "id": "1adf5516",
   "metadata": {
    "execution": {
     "iopub.execute_input": "2023-03-04T00:58:50.916543Z",
     "iopub.status.busy": "2023-03-04T00:58:50.915820Z",
     "iopub.status.idle": "2023-03-04T00:58:51.325125Z",
     "shell.execute_reply": "2023-03-04T00:58:51.323851Z"
    },
    "papermill": {
     "duration": 0.43233,
     "end_time": "2023-03-04T00:58:51.327738",
     "exception": false,
     "start_time": "2023-03-04T00:58:50.895408",
     "status": "completed"
    },
    "tags": []
   },
   "outputs": [
    {
     "data": {
      "text/plain": [
       "[Text(0.5, 1.0, 'Box Plot of Scores')]"
      ]
     },
     "execution_count": 13,
     "metadata": {},
     "output_type": "execute_result"
    },
    {
     "data": {
      "image/png": "[encoded data removed]",
      "text/plain": [
       "<Figure size 640x480 with 1 Axes>"
      ]
     },
     "metadata": {},
     "output_type": "display_data"
    }
   ],
   "source": [
    "sns.boxplot(data=new_df_meta).set(title=\"Box Plot of Scores\")\n",
    "# according to the box plot outliers detected in revenue and budget "
   ]
  },
  {
   "cell_type": "code",
   "execution_count": 14,
   "id": "25141a2b",
   "metadata": {
    "execution": {
     "iopub.execute_input": "2023-03-04T00:58:51.368767Z",
     "iopub.status.busy": "2023-03-04T00:58:51.368057Z",
     "iopub.status.idle": "2023-03-04T00:58:51.577411Z",
     "shell.execute_reply": "2023-03-04T00:58:51.576211Z"
    },
    "papermill": {
     "duration": 0.232883,
     "end_time": "2023-03-04T00:58:51.579849",
     "exception": false,
     "start_time": "2023-03-04T00:58:51.346966",
     "status": "completed"
    },
    "tags": []
   },
   "outputs": [
    {
     "data": {
      "text/plain": [
       "<AxesSubplot:xlabel='revenue'>"
      ]
     },
     "execution_count": 14,
     "metadata": {},
     "output_type": "execute_result"
    },
    {
     "data": {
      "image/png": "[encoded data removed]",
      "text/plain": [
       "<Figure size 640x480 with 1 Axes>"
      ]
     },
     "metadata": {},
     "output_type": "display_data"
    }
   ],
   "source": [
    "# I am plotting values individually for abetter picture, and as we can see - \"otliers are right there \n",
    "import seaborn as sns\n",
    "sns.boxplot(data=new_df_meta,x=new_df_meta['revenue'])"
   ]
  },
  {
   "cell_type": "code",
   "execution_count": 15,
   "id": "bab9535c",
   "metadata": {
    "execution": {
     "iopub.execute_input": "2023-03-04T00:58:51.622541Z",
     "iopub.status.busy": "2023-03-04T00:58:51.621449Z",
     "iopub.status.idle": "2023-03-04T00:58:51.823984Z",
     "shell.execute_reply": "2023-03-04T00:58:51.822656Z"
    },
    "papermill": {
     "duration": 0.226198,
     "end_time": "2023-03-04T00:58:51.826388",
     "exception": false,
     "start_time": "2023-03-04T00:58:51.600190",
     "status": "completed"
    },
    "tags": []
   },
   "outputs": [
    {
     "data": {
      "text/plain": [
       "<AxesSubplot:xlabel='popularity'>"
      ]
     },
     "execution_count": 15,
     "metadata": {},
     "output_type": "execute_result"
    },
    {
     "data": {
      "image/png": "[encoded data removed]",
      "text/plain": [
       "<Figure size 640x480 with 1 Axes>"
      ]
     },
     "metadata": {},
     "output_type": "display_data"
    }
   ],
   "source": [
    "sns.boxplot(data=new_df_meta,x=new_df_meta['popularity'])\n"
   ]
  },
  {
   "cell_type": "markdown",
   "id": "1b7af61a",
   "metadata": {
    "papermill": {
     "duration": 0.019577,
     "end_time": "2023-03-04T00:58:51.866008",
     "exception": false,
     "start_time": "2023-03-04T00:58:51.846431",
     "status": "completed"
    },
    "tags": []
   },
   "source": [
    "# Treating outliers with Q1/Q3 "
   ]
  },
  {
   "cell_type": "code",
   "execution_count": 16,
   "id": "b6499a16",
   "metadata": {
    "execution": {
     "iopub.execute_input": "2023-03-04T00:58:51.908399Z",
     "iopub.status.busy": "2023-03-04T00:58:51.907485Z",
     "iopub.status.idle": "2023-03-04T00:58:51.923267Z",
     "shell.execute_reply": "2023-03-04T00:58:51.921958Z"
    },
    "papermill": {
     "duration": 0.039872,
     "end_time": "2023-03-04T00:58:51.925876",
     "exception": false,
     "start_time": "2023-03-04T00:58:51.886004",
     "status": "completed"
    },
    "tags": []
   },
   "outputs": [
    {
     "name": "stdout",
     "output_type": "stream",
     "text": [
      "0.38707349999999996\n",
      "3.688095\n",
      "3.3010215\n"
     ]
    }
   ],
   "source": [
    "Q1 = np.percentile(new_df_meta['popularity'], 25)\n",
    "Q3 = np.percentile(new_df_meta['popularity'], 75)\n",
    "IQR = Q3-Q1\n",
    "\n",
    "print(Q1)\n",
    "print(Q3)\n",
    "print(IQR)\n",
    "\n",
    "lower_limit = Q1-1.5*IQR\n",
    "upper_limit = Q3+1.5*IQR\n",
    "\n",
    "df_filtered = new_df_meta[(new_df_meta['popularity']>lower_limit) & (new_df_meta['popularity']<upper_limit)]\n"
   ]
  },
  {
   "cell_type": "code",
   "execution_count": 17,
   "id": "7ccb8ad8",
   "metadata": {
    "execution": {
     "iopub.execute_input": "2023-03-04T00:58:51.968603Z",
     "iopub.status.busy": "2023-03-04T00:58:51.968173Z",
     "iopub.status.idle": "2023-03-04T00:58:52.171237Z",
     "shell.execute_reply": "2023-03-04T00:58:52.169960Z"
    },
    "papermill": {
     "duration": 0.227426,
     "end_time": "2023-03-04T00:58:52.173872",
     "exception": false,
     "start_time": "2023-03-04T00:58:51.946446",
     "status": "completed"
    },
    "tags": []
   },
   "outputs": [
    {
     "data": {
      "text/plain": [
       "<AxesSubplot:xlabel='popularity'>"
      ]
     },
     "execution_count": 17,
     "metadata": {},
     "output_type": "execute_result"
    },
    {
     "data": {
      "image/png": "[encoded data removed]",
      "text/plain": [
       "<Figure size 640x480 with 1 Axes>"
      ]
     },
     "metadata": {},
     "output_type": "display_data"
    }
   ],
   "source": [
    "# I am plotting values individually for a better picture, and as we can see - otliers are right there in budget column as well\n",
    "import seaborn as sns\n",
    "sns.boxplot(data=new_df_meta,x=new_df_meta['popularity'])"
   ]
  },
  {
   "cell_type": "code",
   "execution_count": 18,
   "id": "1e611b0f",
   "metadata": {
    "execution": {
     "iopub.execute_input": "2023-03-04T00:58:52.217797Z",
     "iopub.status.busy": "2023-03-04T00:58:52.217373Z",
     "iopub.status.idle": "2023-03-04T00:58:52.411995Z",
     "shell.execute_reply": "2023-03-04T00:58:52.410728Z"
    },
    "papermill": {
     "duration": 0.219628,
     "end_time": "2023-03-04T00:58:52.414687",
     "exception": false,
     "start_time": "2023-03-04T00:58:52.195059",
     "status": "completed"
    },
    "tags": []
   },
   "outputs": [
    {
     "data": {
      "text/plain": [
       "<AxesSubplot:xlabel='popularity'>"
      ]
     },
     "execution_count": 18,
     "metadata": {},
     "output_type": "execute_result"
    },
    {
     "data": {
      "image/png": "[encoded data removed]",
      "text/plain": [
       "<Figure size 640x480 with 1 Axes>"
      ]
     },
     "metadata": {},
     "output_type": "display_data"
    }
   ],
   "source": [
    "sns.boxplot(data=df_filtered,x=df_filtered['popularity'])\n",
    "#Handeled outliers values with Q1/Q3\n"
   ]
  },
  {
   "cell_type": "code",
   "execution_count": 19,
   "id": "45ba221c",
   "metadata": {
    "execution": {
     "iopub.execute_input": "2023-03-04T00:58:52.458854Z",
     "iopub.status.busy": "2023-03-04T00:58:52.458363Z",
     "iopub.status.idle": "2023-03-04T00:58:52.655168Z",
     "shell.execute_reply": "2023-03-04T00:58:52.653889Z"
    },
    "papermill": {
     "duration": 0.222134,
     "end_time": "2023-03-04T00:58:52.657891",
     "exception": false,
     "start_time": "2023-03-04T00:58:52.435757",
     "status": "completed"
    },
    "tags": []
   },
   "outputs": [
    {
     "data": {
      "text/plain": [
       "<AxesSubplot:xlabel='popularity'>"
      ]
     },
     "execution_count": 19,
     "metadata": {},
     "output_type": "execute_result"
    },
    {
     "data": {
      "image/png": "[encoded data removed]",
      "text/plain": [
       "<Figure size 640x480 with 1 Axes>"
      ]
     },
     "metadata": {},
     "output_type": "display_data"
    }
   ],
   "source": [
    "sns.boxplot(data=df_filtered,x=df_filtered['popularity'])\n"
   ]
  },
  {
   "cell_type": "code",
   "execution_count": 20,
   "id": "0225edd8",
   "metadata": {
    "execution": {
     "iopub.execute_input": "2023-03-04T00:58:52.701971Z",
     "iopub.status.busy": "2023-03-04T00:58:52.701562Z",
     "iopub.status.idle": "2023-03-04T00:58:52.712287Z",
     "shell.execute_reply": "2023-03-04T00:58:52.710721Z"
    },
    "papermill": {
     "duration": 0.035907,
     "end_time": "2023-03-04T00:58:52.714942",
     "exception": false,
     "start_time": "2023-03-04T00:58:52.679035",
     "status": "completed"
    },
    "tags": []
   },
   "outputs": [
    {
     "name": "stdout",
     "output_type": "stream",
     "text": [
      "0.0\n",
      "1525499.9999999928\n",
      "1525499.9999999928\n"
     ]
    }
   ],
   "source": [
    "# Treating outliers for revenue \n",
    "\n",
    "Q1 = np.percentile(df_filtered['budget'], 25)\n",
    "Q3 = np.percentile(df_filtered['budget'], 90)\n",
    "IQR = Q3-Q1\n",
    "\n",
    "print(Q1)\n",
    "print(Q3)\n",
    "print(IQR)\n",
    "\n",
    "lower_limit = Q1-1.5*IQR\n",
    "upper_limit = Q3+1.5*IQR\n",
    "\n"
   ]
  },
  {
   "cell_type": "code",
   "execution_count": 21,
   "id": "e21307b9",
   "metadata": {
    "execution": {
     "iopub.execute_input": "2023-03-04T00:58:52.759442Z",
     "iopub.status.busy": "2023-03-04T00:58:52.758997Z",
     "iopub.status.idle": "2023-03-04T00:58:52.778414Z",
     "shell.execute_reply": "2023-03-04T00:58:52.776417Z"
    },
    "papermill": {
     "duration": 0.045066,
     "end_time": "2023-03-04T00:58:52.781275",
     "exception": false,
     "start_time": "2023-03-04T00:58:52.736209",
     "status": "completed"
    },
    "tags": []
   },
   "outputs": [
    {
     "name": "stdout",
     "output_type": "stream",
     "text": [
      "       budget                                             genres  popularity  \\\n",
      "2           0  [{'id': 10749, 'name': 'Romance'}, {'id': 35, ...   11.712900   \n",
      "4           0                     [{'id': 35, 'name': 'Comedy'}]    8.387519   \n",
      "7           0  [{'id': 28, 'name': 'Action'}, {'id': 12, 'nam...    2.561161   \n",
      "11          0  [{'id': 35, 'name': 'Comedy'}, {'id': 27, 'nam...    5.430331   \n",
      "12          0  [{'id': 10751, 'name': 'Family'}, {'id': 16, '...   12.140733   \n",
      "...       ...                                                ...         ...   \n",
      "45378       0  [{'id': 18, 'name': 'Drama'}, {'id': 10751, 'n...    0.072051   \n",
      "45379       0                      [{'id': 18, 'name': 'Drama'}]    0.178241   \n",
      "45380       0  [{'id': 28, 'name': 'Action'}, {'id': 18, 'nam...    0.903007   \n",
      "45381       0                                                 []    0.003503   \n",
      "45382       0                                                 []    0.163015   \n",
      "\n",
      "          revenue  vote_average  vote_count               original_title  \\\n",
      "2             0.0           6.5        92.0             Grumpier Old Men   \n",
      "4      76578911.0           5.7       173.0  Father of the Bride Part II   \n",
      "7             0.0           5.4        45.0                 Tom and Huck   \n",
      "11            0.0           5.7       210.0  Dracula: Dead and Loving It   \n",
      "12     11348324.0           7.1       423.0                        Balto   \n",
      "...           ...           ...         ...                          ...   \n",
      "45378         0.0           4.0         1.0                      رگ خواب   \n",
      "45379         0.0           9.0         3.0          Siglo ng Pagluluwal   \n",
      "45380         0.0           3.8         6.0                     Betrayal   \n",
      "45381         0.0           0.0         0.0          Satana likuyushchiy   \n",
      "45382         0.0           0.0         0.0                     Queerama   \n",
      "\n",
      "                                                overview  \n",
      "2      A family wedding reignites the ancient feud be...  \n",
      "4      Just when George Banks has recovered from his ...  \n",
      "7      A mischievous young boy, Tom Sawyer, witnesses...  \n",
      "11     When a lawyer shows up at the vampire's doorst...  \n",
      "12     An outcast half-wolf risks his life to prevent...  \n",
      "...                                                  ...  \n",
      "45378        Rising and falling between a man and woman.  \n",
      "45379  An artist struggles to finish his work while a...  \n",
      "45380  When one of her hits goes wrong, a professiona...  \n",
      "45381  In a small town live two brothers, one a minis...  \n",
      "45382  50 years after decriminalisation of homosexual...  \n",
      "\n",
      "[39594 rows x 8 columns]\n"
     ]
    }
   ],
   "source": [
    "df_scores_filtered = new_df_meta[(new_df_meta['budget']>lower_limit) & (new_df_meta['budget']<upper_limit)]\n",
    "print(df_scores_filtered)"
   ]
  },
  {
   "cell_type": "markdown",
   "id": "9edc57e6",
   "metadata": {
    "papermill": {
     "duration": 0.021297,
     "end_time": "2023-03-04T00:58:52.824359",
     "exception": false,
     "start_time": "2023-03-04T00:58:52.803062",
     "status": "completed"
    },
    "tags": []
   },
   "source": [
    "# While plottin heatmap,  I see that budget and vote count are the most correlated.So it is a good idea to choose 'budget' as our feature  for x, since the score for correletion is one of the higest. "
   ]
  },
  {
   "cell_type": "code",
   "execution_count": 22,
   "id": "fc8807c7",
   "metadata": {
    "execution": {
     "iopub.execute_input": "2023-03-04T00:58:52.869821Z",
     "iopub.status.busy": "2023-03-04T00:58:52.868695Z",
     "iopub.status.idle": "2023-03-04T00:58:53.163028Z",
     "shell.execute_reply": "2023-03-04T00:58:53.161869Z"
    },
    "papermill": {
     "duration": 0.319719,
     "end_time": "2023-03-04T00:58:53.165526",
     "exception": false,
     "start_time": "2023-03-04T00:58:52.845807",
     "status": "completed"
    },
    "tags": []
   },
   "outputs": [
    {
     "data": {
      "text/plain": [
       "<AxesSubplot:>"
      ]
     },
     "execution_count": 22,
     "metadata": {},
     "output_type": "execute_result"
    },
    {
     "data": {
      "image/png": "[encoded data removed]",
      "text/plain": [
       "<Figure size 640x480 with 2 Axes>"
      ]
     },
     "metadata": {},
     "output_type": "display_data"
    }
   ],
   "source": [
    "corr = df_scores_filtered.corr()\n",
    "sns.heatmap(corr)\n",
    "#Budget and vote count has the highest correlation so \"budget\" is the best feature "
   ]
  },
  {
   "cell_type": "markdown",
   "id": "c31eb310",
   "metadata": {
    "papermill": {
     "duration": 0.022317,
     "end_time": "2023-03-04T00:58:53.210581",
     "exception": false,
     "start_time": "2023-03-04T00:58:53.188264",
     "status": "completed"
    },
    "tags": []
   },
   "source": [
    "# Data understanding for the newly created dataframe "
   ]
  },
  {
   "cell_type": "code",
   "execution_count": 23,
   "id": "88d39979",
   "metadata": {
    "execution": {
     "iopub.execute_input": "2023-03-04T00:58:53.256682Z",
     "iopub.status.busy": "2023-03-04T00:58:53.256295Z",
     "iopub.status.idle": "2023-03-04T00:58:53.290906Z",
     "shell.execute_reply": "2023-03-04T00:58:53.290018Z"
    },
    "papermill": {
     "duration": 0.060563,
     "end_time": "2023-03-04T00:58:53.293197",
     "exception": false,
     "start_time": "2023-03-04T00:58:53.232634",
     "status": "completed"
    },
    "tags": []
   },
   "outputs": [
    {
     "data": {
      "text/html": [
       "<div>\n",
       "<style scoped>\n",
       "    .dataframe tbody tr th:only-of-type {\n",
       "        vertical-align: middle;\n",
       "    }\n",
       "\n",
       "    .dataframe tbody tr th {\n",
       "        vertical-align: top;\n",
       "    }\n",
       "\n",
       "    .dataframe thead th {\n",
       "        text-align: right;\n",
       "    }\n",
       "</style>\n",
       "<table border=\"1\" class=\"dataframe\">\n",
       "  <thead>\n",
       "    <tr style=\"text-align: right;\">\n",
       "      <th></th>\n",
       "      <th>budget</th>\n",
       "      <th>popularity</th>\n",
       "      <th>revenue</th>\n",
       "      <th>vote_average</th>\n",
       "      <th>vote_count</th>\n",
       "    </tr>\n",
       "  </thead>\n",
       "  <tbody>\n",
       "    <tr>\n",
       "      <th>count</th>\n",
       "      <td>3.959400e+04</td>\n",
       "      <td>39594.000000</td>\n",
       "      <td>3.959400e+04</td>\n",
       "      <td>39594.000000</td>\n",
       "      <td>39594.000000</td>\n",
       "    </tr>\n",
       "    <tr>\n",
       "      <th>mean</th>\n",
       "      <td>9.879054e+04</td>\n",
       "      <td>1.975588</td>\n",
       "      <td>9.342773e+05</td>\n",
       "      <td>5.546915</td>\n",
       "      <td>28.769491</td>\n",
       "    </tr>\n",
       "    <tr>\n",
       "      <th>std</th>\n",
       "      <td>4.626109e+05</td>\n",
       "      <td>2.838338</td>\n",
       "      <td>8.267676e+06</td>\n",
       "      <td>2.013755</td>\n",
       "      <td>95.204149</td>\n",
       "    </tr>\n",
       "    <tr>\n",
       "      <th>min</th>\n",
       "      <td>0.000000e+00</td>\n",
       "      <td>0.000000</td>\n",
       "      <td>0.000000e+00</td>\n",
       "      <td>0.000000</td>\n",
       "      <td>0.000000</td>\n",
       "    </tr>\n",
       "    <tr>\n",
       "      <th>25%</th>\n",
       "      <td>0.000000e+00</td>\n",
       "      <td>0.316290</td>\n",
       "      <td>0.000000e+00</td>\n",
       "      <td>5.000000</td>\n",
       "      <td>3.000000</td>\n",
       "    </tr>\n",
       "    <tr>\n",
       "      <th>50%</th>\n",
       "      <td>0.000000e+00</td>\n",
       "      <td>0.908912</td>\n",
       "      <td>0.000000e+00</td>\n",
       "      <td>6.000000</td>\n",
       "      <td>8.000000</td>\n",
       "    </tr>\n",
       "    <tr>\n",
       "      <th>75%</th>\n",
       "      <td>0.000000e+00</td>\n",
       "      <td>2.299174</td>\n",
       "      <td>0.000000e+00</td>\n",
       "      <td>6.800000</td>\n",
       "      <td>21.000000</td>\n",
       "    </tr>\n",
       "    <tr>\n",
       "      <th>max</th>\n",
       "      <td>3.800000e+06</td>\n",
       "      <td>67.955052</td>\n",
       "      <td>5.720000e+08</td>\n",
       "      <td>10.000000</td>\n",
       "      <td>4376.000000</td>\n",
       "    </tr>\n",
       "  </tbody>\n",
       "</table>\n",
       "</div>"
      ],
      "text/plain": [
       "             budget    popularity       revenue  vote_average    vote_count\n",
       "count  3.959400e+04  39594.000000  3.959400e+04  39594.000000  39594.000000\n",
       "mean   9.879054e+04      1.975588  9.342773e+05      5.546915     28.769491\n",
       "std    4.626109e+05      2.838338  8.267676e+06      2.013755     95.204149\n",
       "min    0.000000e+00      0.000000  0.000000e+00      0.000000      0.000000\n",
       "25%    0.000000e+00      0.316290  0.000000e+00      5.000000      3.000000\n",
       "50%    0.000000e+00      0.908912  0.000000e+00      6.000000      8.000000\n",
       "75%    0.000000e+00      2.299174  0.000000e+00      6.800000     21.000000\n",
       "max    3.800000e+06     67.955052  5.720000e+08     10.000000   4376.000000"
      ]
     },
     "execution_count": 23,
     "metadata": {},
     "output_type": "execute_result"
    }
   ],
   "source": [
    "df_scores_filtered.describe()"
   ]
  },
  {
   "cell_type": "code",
   "execution_count": 24,
   "id": "7a22bdff",
   "metadata": {
    "execution": {
     "iopub.execute_input": "2023-03-04T00:58:53.340246Z",
     "iopub.status.busy": "2023-03-04T00:58:53.339557Z",
     "iopub.status.idle": "2023-03-04T00:58:53.372831Z",
     "shell.execute_reply": "2023-03-04T00:58:53.371667Z"
    },
    "papermill": {
     "duration": 0.05957,
     "end_time": "2023-03-04T00:58:53.375297",
     "exception": false,
     "start_time": "2023-03-04T00:58:53.315727",
     "status": "completed"
    },
    "tags": []
   },
   "outputs": [
    {
     "data": {
      "text/html": [
       "<div>\n",
       "<style scoped>\n",
       "    .dataframe tbody tr th:only-of-type {\n",
       "        vertical-align: middle;\n",
       "    }\n",
       "\n",
       "    .dataframe tbody tr th {\n",
       "        vertical-align: top;\n",
       "    }\n",
       "\n",
       "    .dataframe thead th {\n",
       "        text-align: right;\n",
       "    }\n",
       "</style>\n",
       "<table border=\"1\" class=\"dataframe\">\n",
       "  <thead>\n",
       "    <tr style=\"text-align: right;\">\n",
       "      <th></th>\n",
       "      <th>budget</th>\n",
       "      <th>popularity</th>\n",
       "      <th>revenue</th>\n",
       "      <th>vote_average</th>\n",
       "      <th>vote_count</th>\n",
       "    </tr>\n",
       "  </thead>\n",
       "  <tbody>\n",
       "    <tr>\n",
       "      <th>count</th>\n",
       "      <td>4.538300e+04</td>\n",
       "      <td>45383.000000</td>\n",
       "      <td>4.538300e+04</td>\n",
       "      <td>45383.000000</td>\n",
       "      <td>45383.000000</td>\n",
       "    </tr>\n",
       "    <tr>\n",
       "      <th>mean</th>\n",
       "      <td>4.231513e+06</td>\n",
       "      <td>2.925071</td>\n",
       "      <td>1.122888e+07</td>\n",
       "      <td>5.619861</td>\n",
       "      <td>110.072212</td>\n",
       "    </tr>\n",
       "    <tr>\n",
       "      <th>std</th>\n",
       "      <td>1.743859e+07</td>\n",
       "      <td>6.009598</td>\n",
       "      <td>6.438510e+07</td>\n",
       "      <td>1.921156</td>\n",
       "      <td>491.708352</td>\n",
       "    </tr>\n",
       "    <tr>\n",
       "      <th>min</th>\n",
       "      <td>0.000000e+00</td>\n",
       "      <td>0.000000</td>\n",
       "      <td>0.000000e+00</td>\n",
       "      <td>0.000000</td>\n",
       "      <td>0.000000</td>\n",
       "    </tr>\n",
       "    <tr>\n",
       "      <th>25%</th>\n",
       "      <td>0.000000e+00</td>\n",
       "      <td>0.387073</td>\n",
       "      <td>0.000000e+00</td>\n",
       "      <td>5.000000</td>\n",
       "      <td>3.000000</td>\n",
       "    </tr>\n",
       "    <tr>\n",
       "      <th>50%</th>\n",
       "      <td>0.000000e+00</td>\n",
       "      <td>1.129397</td>\n",
       "      <td>0.000000e+00</td>\n",
       "      <td>6.000000</td>\n",
       "      <td>10.000000</td>\n",
       "    </tr>\n",
       "    <tr>\n",
       "      <th>75%</th>\n",
       "      <td>0.000000e+00</td>\n",
       "      <td>3.688095</td>\n",
       "      <td>0.000000e+00</td>\n",
       "      <td>6.800000</td>\n",
       "      <td>34.000000</td>\n",
       "    </tr>\n",
       "    <tr>\n",
       "      <th>max</th>\n",
       "      <td>3.800000e+08</td>\n",
       "      <td>547.488298</td>\n",
       "      <td>2.787965e+09</td>\n",
       "      <td>10.000000</td>\n",
       "      <td>14075.000000</td>\n",
       "    </tr>\n",
       "  </tbody>\n",
       "</table>\n",
       "</div>"
      ],
      "text/plain": [
       "             budget    popularity       revenue  vote_average    vote_count\n",
       "count  4.538300e+04  45383.000000  4.538300e+04  45383.000000  45383.000000\n",
       "mean   4.231513e+06      2.925071  1.122888e+07      5.619861    110.072212\n",
       "std    1.743859e+07      6.009598  6.438510e+07      1.921156    491.708352\n",
       "min    0.000000e+00      0.000000  0.000000e+00      0.000000      0.000000\n",
       "25%    0.000000e+00      0.387073  0.000000e+00      5.000000      3.000000\n",
       "50%    0.000000e+00      1.129397  0.000000e+00      6.000000     10.000000\n",
       "75%    0.000000e+00      3.688095  0.000000e+00      6.800000     34.000000\n",
       "max    3.800000e+08    547.488298  2.787965e+09     10.000000  14075.000000"
      ]
     },
     "execution_count": 24,
     "metadata": {},
     "output_type": "execute_result"
    }
   ],
   "source": [
    "new_df_meta.describe()"
   ]
  },
  {
   "cell_type": "markdown",
   "id": "2817a872",
   "metadata": {
    "papermill": {
     "duration": 0.0222,
     "end_time": "2023-03-04T00:58:53.420325",
     "exception": false,
     "start_time": "2023-03-04T00:58:53.398125",
     "status": "completed"
    },
    "tags": []
   },
   "source": []
  },
  {
   "cell_type": "markdown",
   "id": "21968dca",
   "metadata": {
    "execution": {
     "iopub.execute_input": "2023-03-01T20:59:55.662523Z",
     "iopub.status.busy": "2023-03-01T20:59:55.662121Z",
     "iopub.status.idle": "2023-03-01T20:59:55.669927Z",
     "shell.execute_reply": "2023-03-01T20:59:55.668758Z",
     "shell.execute_reply.started": "2023-03-01T20:59:55.662489Z"
    },
    "papermill": {
     "duration": 0.022209,
     "end_time": "2023-03-04T00:58:53.464912",
     "exception": false,
     "start_time": "2023-03-04T00:58:53.442703",
     "status": "completed"
    },
    "tags": []
   },
   "source": [
    "print(df['rating'])"
   ]
  },
  {
   "cell_type": "code",
   "execution_count": 25,
   "id": "7db39de0",
   "metadata": {
    "execution": {
     "iopub.execute_input": "2023-03-04T00:58:53.517328Z",
     "iopub.status.busy": "2023-03-04T00:58:53.516883Z",
     "iopub.status.idle": "2023-03-04T00:58:53.523901Z",
     "shell.execute_reply": "2023-03-04T00:58:53.522870Z"
    },
    "papermill": {
     "duration": 0.034032,
     "end_time": "2023-03-04T00:58:53.526197",
     "exception": false,
     "start_time": "2023-03-04T00:58:53.492165",
     "status": "completed"
    },
    "tags": []
   },
   "outputs": [
    {
     "data": {
      "text/plain": [
       "array(['budget', 'genres', 'popularity', 'revenue', 'vote_average',\n",
       "       'vote_count', 'original_title', 'overview'], dtype=object)"
      ]
     },
     "execution_count": 25,
     "metadata": {},
     "output_type": "execute_result"
    }
   ],
   "source": [
    "df_filtered.columns.values"
   ]
  },
  {
   "cell_type": "code",
   "execution_count": 26,
   "id": "19830c8f",
   "metadata": {
    "execution": {
     "iopub.execute_input": "2023-03-04T00:58:53.573949Z",
     "iopub.status.busy": "2023-03-04T00:58:53.573513Z",
     "iopub.status.idle": "2023-03-04T00:58:53.596987Z",
     "shell.execute_reply": "2023-03-04T00:58:53.595593Z"
    },
    "papermill": {
     "duration": 0.051156,
     "end_time": "2023-03-04T00:58:53.600440",
     "exception": false,
     "start_time": "2023-03-04T00:58:53.549284",
     "status": "completed"
    },
    "tags": []
   },
   "outputs": [
    {
     "name": "stdout",
     "output_type": "stream",
     "text": [
      "<class 'pandas.core.frame.DataFrame'>\n",
      "Int64Index: 41170 entries, 3 to 45382\n",
      "Data columns (total 8 columns):\n",
      " #   Column          Non-Null Count  Dtype  \n",
      "---  ------          --------------  -----  \n",
      " 0   budget          41170 non-null  int64  \n",
      " 1   genres          41170 non-null  object \n",
      " 2   popularity      41170 non-null  float64\n",
      " 3   revenue         41170 non-null  float64\n",
      " 4   vote_average    41170 non-null  float64\n",
      " 5   vote_count      41170 non-null  float64\n",
      " 6   original_title  41170 non-null  object \n",
      " 7   overview        40220 non-null  object \n",
      "dtypes: float64(4), int64(1), object(3)\n",
      "memory usage: 2.8+ MB\n"
     ]
    }
   ],
   "source": [
    "df_filtered.info()"
   ]
  },
  {
   "cell_type": "code",
   "execution_count": 27,
   "id": "818522d7",
   "metadata": {
    "execution": {
     "iopub.execute_input": "2023-03-04T00:58:53.648722Z",
     "iopub.status.busy": "2023-03-04T00:58:53.648317Z",
     "iopub.status.idle": "2023-03-04T00:58:53.682046Z",
     "shell.execute_reply": "2023-03-04T00:58:53.681003Z"
    },
    "papermill": {
     "duration": 0.060548,
     "end_time": "2023-03-04T00:58:53.684609",
     "exception": false,
     "start_time": "2023-03-04T00:58:53.624061",
     "status": "completed"
    },
    "tags": []
   },
   "outputs": [],
   "source": [
    "df_test1= pd.read_csv(\"/kaggle/input/breakthrough-tech-ai-studio-challenge/test.csv\")"
   ]
  },
  {
   "cell_type": "code",
   "execution_count": 28,
   "id": "5974c467",
   "metadata": {
    "execution": {
     "iopub.execute_input": "2023-03-04T00:58:53.732329Z",
     "iopub.status.busy": "2023-03-04T00:58:53.731925Z",
     "iopub.status.idle": "2023-03-04T00:58:53.785118Z",
     "shell.execute_reply": "2023-03-04T00:58:53.784118Z"
    },
    "papermill": {
     "duration": 0.080057,
     "end_time": "2023-03-04T00:58:53.787756",
     "exception": false,
     "start_time": "2023-03-04T00:58:53.707699",
     "status": "completed"
    },
    "tags": []
   },
   "outputs": [],
   "source": [
    "df_train = pd.read_csv(\"/kaggle/input/breakthrough-tech-ai-studio-challenge/train.csv\")"
   ]
  },
  {
   "cell_type": "code",
   "execution_count": 29,
   "id": "4ce591f4",
   "metadata": {
    "execution": {
     "iopub.execute_input": "2023-03-04T00:58:53.837584Z",
     "iopub.status.busy": "2023-03-04T00:58:53.836774Z",
     "iopub.status.idle": "2023-03-04T00:58:53.841816Z",
     "shell.execute_reply": "2023-03-04T00:58:53.840881Z"
    },
    "papermill": {
     "duration": 0.032672,
     "end_time": "2023-03-04T00:58:53.843998",
     "exception": false,
     "start_time": "2023-03-04T00:58:53.811326",
     "status": "completed"
    },
    "tags": []
   },
   "outputs": [],
   "source": [
    "df_test = df_test1.copy()"
   ]
  },
  {
   "cell_type": "code",
   "execution_count": 30,
   "id": "f71d4c64",
   "metadata": {
    "execution": {
     "iopub.execute_input": "2023-03-04T00:58:53.894512Z",
     "iopub.status.busy": "2023-03-04T00:58:53.894061Z",
     "iopub.status.idle": "2023-03-04T00:58:53.904587Z",
     "shell.execute_reply": "2023-03-04T00:58:53.903330Z"
    },
    "papermill": {
     "duration": 0.039151,
     "end_time": "2023-03-04T00:58:53.907031",
     "exception": false,
     "start_time": "2023-03-04T00:58:53.867880",
     "status": "completed"
    },
    "tags": []
   },
   "outputs": [
    {
     "data": {
      "text/html": [
       "<div>\n",
       "<style scoped>\n",
       "    .dataframe tbody tr th:only-of-type {\n",
       "        vertical-align: middle;\n",
       "    }\n",
       "\n",
       "    .dataframe tbody tr th {\n",
       "        vertical-align: top;\n",
       "    }\n",
       "\n",
       "    .dataframe thead th {\n",
       "        text-align: right;\n",
       "    }\n",
       "</style>\n",
       "<table border=\"1\" class=\"dataframe\">\n",
       "  <thead>\n",
       "    <tr style=\"text-align: right;\">\n",
       "      <th></th>\n",
       "      <th>userId_movieId</th>\n",
       "    </tr>\n",
       "  </thead>\n",
       "  <tbody>\n",
       "    <tr>\n",
       "      <th>0</th>\n",
       "      <td>469_2124</td>\n",
       "    </tr>\n",
       "  </tbody>\n",
       "</table>\n",
       "</div>"
      ],
      "text/plain": [
       "  userId_movieId\n",
       "0       469_2124"
      ]
     },
     "execution_count": 30,
     "metadata": {},
     "output_type": "execute_result"
    }
   ],
   "source": [
    "df_test1.head(1)"
   ]
  },
  {
   "cell_type": "code",
   "execution_count": 31,
   "id": "a5978380",
   "metadata": {
    "execution": {
     "iopub.execute_input": "2023-03-04T00:58:53.955471Z",
     "iopub.status.busy": "2023-03-04T00:58:53.954641Z",
     "iopub.status.idle": "2023-03-04T00:58:53.964589Z",
     "shell.execute_reply": "2023-03-04T00:58:53.963633Z"
    },
    "papermill": {
     "duration": 0.036866,
     "end_time": "2023-03-04T00:58:53.966870",
     "exception": false,
     "start_time": "2023-03-04T00:58:53.930004",
     "status": "completed"
    },
    "tags": []
   },
   "outputs": [
    {
     "data": {
      "text/html": [
       "<div>\n",
       "<style scoped>\n",
       "    .dataframe tbody tr th:only-of-type {\n",
       "        vertical-align: middle;\n",
       "    }\n",
       "\n",
       "    .dataframe tbody tr th {\n",
       "        vertical-align: top;\n",
       "    }\n",
       "\n",
       "    .dataframe thead th {\n",
       "        text-align: right;\n",
       "    }\n",
       "</style>\n",
       "<table border=\"1\" class=\"dataframe\">\n",
       "  <thead>\n",
       "    <tr style=\"text-align: right;\">\n",
       "      <th></th>\n",
       "      <th>userId_movieId</th>\n",
       "    </tr>\n",
       "  </thead>\n",
       "  <tbody>\n",
       "    <tr>\n",
       "      <th>0</th>\n",
       "      <td>469_2124</td>\n",
       "    </tr>\n",
       "    <tr>\n",
       "      <th>1</th>\n",
       "      <td>439_3753</td>\n",
       "    </tr>\n",
       "  </tbody>\n",
       "</table>\n",
       "</div>"
      ],
      "text/plain": [
       "  userId_movieId\n",
       "0       469_2124\n",
       "1       439_3753"
      ]
     },
     "execution_count": 31,
     "metadata": {},
     "output_type": "execute_result"
    }
   ],
   "source": [
    "df_test.head(2)"
   ]
  },
  {
   "cell_type": "code",
   "execution_count": 32,
   "id": "de926710",
   "metadata": {
    "execution": {
     "iopub.execute_input": "2023-03-04T00:58:54.017211Z",
     "iopub.status.busy": "2023-03-04T00:58:54.016761Z",
     "iopub.status.idle": "2023-03-04T00:58:54.024056Z",
     "shell.execute_reply": "2023-03-04T00:58:54.022763Z"
    },
    "papermill": {
     "duration": 0.035409,
     "end_time": "2023-03-04T00:58:54.026552",
     "exception": false,
     "start_time": "2023-03-04T00:58:53.991143",
     "status": "completed"
    },
    "tags": []
   },
   "outputs": [
    {
     "data": {
      "text/plain": [
       "(30002, 1)"
      ]
     },
     "execution_count": 32,
     "metadata": {},
     "output_type": "execute_result"
    }
   ],
   "source": [
    "df_test.shape"
   ]
  },
  {
   "cell_type": "code",
   "execution_count": 33,
   "id": "4d5c9e87",
   "metadata": {
    "execution": {
     "iopub.execute_input": "2023-03-04T00:58:54.076224Z",
     "iopub.status.busy": "2023-03-04T00:58:54.074851Z",
     "iopub.status.idle": "2023-03-04T00:58:54.082631Z",
     "shell.execute_reply": "2023-03-04T00:58:54.081685Z"
    },
    "papermill": {
     "duration": 0.035423,
     "end_time": "2023-03-04T00:58:54.085302",
     "exception": false,
     "start_time": "2023-03-04T00:58:54.049879",
     "status": "completed"
    },
    "tags": []
   },
   "outputs": [
    {
     "data": {
      "text/plain": [
       "(41170, 8)"
      ]
     },
     "execution_count": 33,
     "metadata": {},
     "output_type": "execute_result"
    }
   ],
   "source": [
    "df_filtered.shape"
   ]
  },
  {
   "cell_type": "code",
   "execution_count": 34,
   "id": "cec57bc0",
   "metadata": {
    "execution": {
     "iopub.execute_input": "2023-03-04T00:58:54.135356Z",
     "iopub.status.busy": "2023-03-04T00:58:54.134924Z",
     "iopub.status.idle": "2023-03-04T00:58:54.386754Z",
     "shell.execute_reply": "2023-03-04T00:58:54.385644Z"
    },
    "papermill": {
     "duration": 0.281015,
     "end_time": "2023-03-04T00:58:54.389959",
     "exception": false,
     "start_time": "2023-03-04T00:58:54.108944",
     "status": "completed"
    },
    "tags": []
   },
   "outputs": [],
   "source": [
    "df_train[['userId','id']] = df_train.userId_movieId.str.split(\"_\", expand=True)\n",
    "\n"
   ]
  },
  {
   "cell_type": "code",
   "execution_count": 35,
   "id": "04fce33c",
   "metadata": {
    "execution": {
     "iopub.execute_input": "2023-03-04T00:58:54.439971Z",
     "iopub.status.busy": "2023-03-04T00:58:54.439077Z",
     "iopub.status.idle": "2023-03-04T00:58:54.451911Z",
     "shell.execute_reply": "2023-03-04T00:58:54.450753Z"
    },
    "papermill": {
     "duration": 0.040539,
     "end_time": "2023-03-04T00:58:54.454425",
     "exception": false,
     "start_time": "2023-03-04T00:58:54.413886",
     "status": "completed"
    },
    "tags": []
   },
   "outputs": [
    {
     "data": {
      "text/html": [
       "<div>\n",
       "<style scoped>\n",
       "    .dataframe tbody tr th:only-of-type {\n",
       "        vertical-align: middle;\n",
       "    }\n",
       "\n",
       "    .dataframe tbody tr th {\n",
       "        vertical-align: top;\n",
       "    }\n",
       "\n",
       "    .dataframe thead th {\n",
       "        text-align: right;\n",
       "    }\n",
       "</style>\n",
       "<table border=\"1\" class=\"dataframe\">\n",
       "  <thead>\n",
       "    <tr style=\"text-align: right;\">\n",
       "      <th></th>\n",
       "      <th>userId_movieId</th>\n",
       "      <th>rating</th>\n",
       "      <th>userId</th>\n",
       "      <th>id</th>\n",
       "    </tr>\n",
       "  </thead>\n",
       "  <tbody>\n",
       "    <tr>\n",
       "      <th>0</th>\n",
       "      <td>10_1358</td>\n",
       "      <td>0.4</td>\n",
       "      <td>10</td>\n",
       "      <td>1358</td>\n",
       "    </tr>\n",
       "    <tr>\n",
       "      <th>1</th>\n",
       "      <td>237_1544</td>\n",
       "      <td>0.7</td>\n",
       "      <td>237</td>\n",
       "      <td>1544</td>\n",
       "    </tr>\n",
       "  </tbody>\n",
       "</table>\n",
       "</div>"
      ],
      "text/plain": [
       "  userId_movieId  rating userId    id\n",
       "0        10_1358     0.4     10  1358\n",
       "1       237_1544     0.7    237  1544"
      ]
     },
     "execution_count": 35,
     "metadata": {},
     "output_type": "execute_result"
    }
   ],
   "source": [
    "df_train.head(2)"
   ]
  },
  {
   "cell_type": "code",
   "execution_count": 36,
   "id": "b8c20d2e",
   "metadata": {
    "execution": {
     "iopub.execute_input": "2023-03-04T00:58:54.505198Z",
     "iopub.status.busy": "2023-03-04T00:58:54.504519Z",
     "iopub.status.idle": "2023-03-04T00:58:54.705117Z",
     "shell.execute_reply": "2023-03-04T00:58:54.703774Z"
    },
    "papermill": {
     "duration": 0.228576,
     "end_time": "2023-03-04T00:58:54.707704",
     "exception": false,
     "start_time": "2023-03-04T00:58:54.479128",
     "status": "completed"
    },
    "tags": []
   },
   "outputs": [
    {
     "data": {
      "text/plain": [
       "<AxesSubplot:xlabel='rating'>"
      ]
     },
     "execution_count": 36,
     "metadata": {},
     "output_type": "execute_result"
    },
    {
     "data": {
      "image/png": "[encoded data removed]",
      "text/plain": [
       "<Figure size 640x480 with 1 Axes>"
      ]
     },
     "metadata": {},
     "output_type": "display_data"
    }
   ],
   "source": [
    "sns.boxplot(data=df_train,x=df_train['rating'])\n",
    "#spotted outliers"
   ]
  },
  {
   "cell_type": "code",
   "execution_count": 37,
   "id": "5fc5895c",
   "metadata": {
    "execution": {
     "iopub.execute_input": "2023-03-04T00:58:54.758473Z",
     "iopub.status.busy": "2023-03-04T00:58:54.757370Z",
     "iopub.status.idle": "2023-03-04T00:58:54.783403Z",
     "shell.execute_reply": "2023-03-04T00:58:54.782472Z"
    },
    "papermill": {
     "duration": 0.053773,
     "end_time": "2023-03-04T00:58:54.785679",
     "exception": false,
     "start_time": "2023-03-04T00:58:54.731906",
     "status": "completed"
    },
    "tags": []
   },
   "outputs": [
    {
     "data": {
      "text/html": [
       "<div>\n",
       "<style scoped>\n",
       "    .dataframe tbody tr th:only-of-type {\n",
       "        vertical-align: middle;\n",
       "    }\n",
       "\n",
       "    .dataframe tbody tr th {\n",
       "        vertical-align: top;\n",
       "    }\n",
       "\n",
       "    .dataframe thead th {\n",
       "        text-align: right;\n",
       "    }\n",
       "</style>\n",
       "<table border=\"1\" class=\"dataframe\">\n",
       "  <thead>\n",
       "    <tr style=\"text-align: right;\">\n",
       "      <th></th>\n",
       "      <th>rating</th>\n",
       "    </tr>\n",
       "  </thead>\n",
       "  <tbody>\n",
       "    <tr>\n",
       "      <th>count</th>\n",
       "      <td>70002.000000</td>\n",
       "    </tr>\n",
       "    <tr>\n",
       "      <th>mean</th>\n",
       "      <td>0.708891</td>\n",
       "    </tr>\n",
       "    <tr>\n",
       "      <th>std</th>\n",
       "      <td>0.211222</td>\n",
       "    </tr>\n",
       "    <tr>\n",
       "      <th>min</th>\n",
       "      <td>0.100000</td>\n",
       "    </tr>\n",
       "    <tr>\n",
       "      <th>25%</th>\n",
       "      <td>0.600000</td>\n",
       "    </tr>\n",
       "    <tr>\n",
       "      <th>50%</th>\n",
       "      <td>0.800000</td>\n",
       "    </tr>\n",
       "    <tr>\n",
       "      <th>75%</th>\n",
       "      <td>0.800000</td>\n",
       "    </tr>\n",
       "    <tr>\n",
       "      <th>max</th>\n",
       "      <td>1.000000</td>\n",
       "    </tr>\n",
       "  </tbody>\n",
       "</table>\n",
       "</div>"
      ],
      "text/plain": [
       "             rating\n",
       "count  70002.000000\n",
       "mean       0.708891\n",
       "std        0.211222\n",
       "min        0.100000\n",
       "25%        0.600000\n",
       "50%        0.800000\n",
       "75%        0.800000\n",
       "max        1.000000"
      ]
     },
     "execution_count": 37,
     "metadata": {},
     "output_type": "execute_result"
    }
   ],
   "source": [
    "df_train.describe()"
   ]
  },
  {
   "cell_type": "code",
   "execution_count": 38,
   "id": "eddaaa92",
   "metadata": {
    "execution": {
     "iopub.execute_input": "2023-03-04T00:58:54.836693Z",
     "iopub.status.busy": "2023-03-04T00:58:54.836019Z",
     "iopub.status.idle": "2023-03-04T00:58:54.853103Z",
     "shell.execute_reply": "2023-03-04T00:58:54.851970Z"
    },
    "papermill": {
     "duration": 0.04551,
     "end_time": "2023-03-04T00:58:54.855576",
     "exception": false,
     "start_time": "2023-03-04T00:58:54.810066",
     "status": "completed"
    },
    "tags": []
   },
   "outputs": [
    {
     "name": "stdout",
     "output_type": "stream",
     "text": [
      "0.6\n",
      "0.8\n",
      "0.20000000000000007\n"
     ]
    }
   ],
   "source": [
    "#Handle outliers \n",
    "Q1 = np.percentile(df_train['rating'], 25)\n",
    "Q3 = np.percentile(df_train['rating'], 75)\n",
    "IQR = Q3-Q1\n",
    "\n",
    "print(Q1)\n",
    "print(Q3)\n",
    "print(IQR)\n",
    "\n",
    "lower_limit = Q1-1.5*IQR\n",
    "upper_limit = Q3+1.5*IQR\n",
    "\n",
    "df_filtered = df_train[(df_train['rating']>lower_limit) & (df_train['rating']<upper_limit)]"
   ]
  },
  {
   "cell_type": "code",
   "execution_count": 39,
   "id": "b18eda66",
   "metadata": {
    "execution": {
     "iopub.execute_input": "2023-03-04T00:58:54.905968Z",
     "iopub.status.busy": "2023-03-04T00:58:54.905524Z",
     "iopub.status.idle": "2023-03-04T00:58:55.104645Z",
     "shell.execute_reply": "2023-03-04T00:58:55.103291Z"
    },
    "papermill": {
     "duration": 0.227533,
     "end_time": "2023-03-04T00:58:55.107432",
     "exception": false,
     "start_time": "2023-03-04T00:58:54.879899",
     "status": "completed"
    },
    "tags": []
   },
   "outputs": [
    {
     "data": {
      "text/plain": [
       "<AxesSubplot:xlabel='rating'>"
      ]
     },
     "execution_count": 39,
     "metadata": {},
     "output_type": "execute_result"
    },
    {
     "data": {
      "image/png": "[encoded data removed]",
      "text/plain": [
       "<Figure size 640x480 with 1 Axes>"
      ]
     },
     "metadata": {},
     "output_type": "display_data"
    }
   ],
   "source": [
    "sns.boxplot(data=df_filtered,x=df_filtered['rating'])\n",
    "#spotted outliers"
   ]
  },
  {
   "cell_type": "code",
   "execution_count": 40,
   "id": "ae17cc91",
   "metadata": {
    "execution": {
     "iopub.execute_input": "2023-03-04T00:58:55.158929Z",
     "iopub.status.busy": "2023-03-04T00:58:55.157638Z",
     "iopub.status.idle": "2023-03-04T00:58:55.162395Z",
     "shell.execute_reply": "2023-03-04T00:58:55.161415Z"
    },
    "papermill": {
     "duration": 0.032839,
     "end_time": "2023-03-04T00:58:55.164637",
     "exception": false,
     "start_time": "2023-03-04T00:58:55.131798",
     "status": "completed"
    },
    "tags": []
   },
   "outputs": [],
   "source": [
    "#df_test[['userId','id']] = df_test.userId_movieId.str.split(\"_\", expand=True)\n",
    "#df_test.head(2)\n"
   ]
  },
  {
   "cell_type": "code",
   "execution_count": 41,
   "id": "2ea002ad",
   "metadata": {
    "execution": {
     "iopub.execute_input": "2023-03-04T00:58:55.215502Z",
     "iopub.status.busy": "2023-03-04T00:58:55.214686Z",
     "iopub.status.idle": "2023-03-04T00:58:55.220035Z",
     "shell.execute_reply": "2023-03-04T00:58:55.218873Z"
    },
    "papermill": {
     "duration": 0.033372,
     "end_time": "2023-03-04T00:58:55.222407",
     "exception": false,
     "start_time": "2023-03-04T00:58:55.189035",
     "status": "completed"
    },
    "tags": []
   },
   "outputs": [],
   "source": [
    "#df_test = df_test.drop(['userId_movieId'], axis=1)"
   ]
  },
  {
   "cell_type": "code",
   "execution_count": 42,
   "id": "9ce32a68",
   "metadata": {
    "execution": {
     "iopub.execute_input": "2023-03-04T00:58:55.273165Z",
     "iopub.status.busy": "2023-03-04T00:58:55.271914Z",
     "iopub.status.idle": "2023-03-04T00:58:55.278578Z",
     "shell.execute_reply": "2023-03-04T00:58:55.277723Z"
    },
    "papermill": {
     "duration": 0.034269,
     "end_time": "2023-03-04T00:58:55.280784",
     "exception": false,
     "start_time": "2023-03-04T00:58:55.246515",
     "status": "completed"
    },
    "tags": []
   },
   "outputs": [
    {
     "data": {
      "text/plain": [
       "(30002, 1)"
      ]
     },
     "execution_count": 42,
     "metadata": {},
     "output_type": "execute_result"
    }
   ],
   "source": [
    "df_test.shape"
   ]
  },
  {
   "cell_type": "code",
   "execution_count": 43,
   "id": "08029e0e",
   "metadata": {
    "execution": {
     "iopub.execute_input": "2023-03-04T00:58:55.332419Z",
     "iopub.status.busy": "2023-03-04T00:58:55.331310Z",
     "iopub.status.idle": "2023-03-04T00:58:55.341489Z",
     "shell.execute_reply": "2023-03-04T00:58:55.340599Z"
    },
    "papermill": {
     "duration": 0.038514,
     "end_time": "2023-03-04T00:58:55.343784",
     "exception": false,
     "start_time": "2023-03-04T00:58:55.305270",
     "status": "completed"
    },
    "tags": []
   },
   "outputs": [
    {
     "data": {
      "text/html": [
       "<div>\n",
       "<style scoped>\n",
       "    .dataframe tbody tr th:only-of-type {\n",
       "        vertical-align: middle;\n",
       "    }\n",
       "\n",
       "    .dataframe tbody tr th {\n",
       "        vertical-align: top;\n",
       "    }\n",
       "\n",
       "    .dataframe thead th {\n",
       "        text-align: right;\n",
       "    }\n",
       "</style>\n",
       "<table border=\"1\" class=\"dataframe\">\n",
       "  <thead>\n",
       "    <tr style=\"text-align: right;\">\n",
       "      <th></th>\n",
       "      <th>userId_movieId</th>\n",
       "    </tr>\n",
       "  </thead>\n",
       "  <tbody>\n",
       "    <tr>\n",
       "      <th>0</th>\n",
       "      <td>469_2124</td>\n",
       "    </tr>\n",
       "    <tr>\n",
       "      <th>1</th>\n",
       "      <td>439_3753</td>\n",
       "    </tr>\n",
       "    <tr>\n",
       "      <th>2</th>\n",
       "      <td>522_1682</td>\n",
       "    </tr>\n",
       "  </tbody>\n",
       "</table>\n",
       "</div>"
      ],
      "text/plain": [
       "  userId_movieId\n",
       "0       469_2124\n",
       "1       439_3753\n",
       "2       522_1682"
      ]
     },
     "execution_count": 43,
     "metadata": {},
     "output_type": "execute_result"
    }
   ],
   "source": [
    "df_test.head(3)"
   ]
  },
  {
   "cell_type": "code",
   "execution_count": 44,
   "id": "4280da45",
   "metadata": {
    "execution": {
     "iopub.execute_input": "2023-03-04T00:58:55.397279Z",
     "iopub.status.busy": "2023-03-04T00:58:55.396819Z",
     "iopub.status.idle": "2023-03-04T00:58:55.409835Z",
     "shell.execute_reply": "2023-03-04T00:58:55.408564Z"
    },
    "papermill": {
     "duration": 0.042599,
     "end_time": "2023-03-04T00:58:55.412347",
     "exception": false,
     "start_time": "2023-03-04T00:58:55.369748",
     "status": "completed"
    },
    "tags": []
   },
   "outputs": [
    {
     "data": {
      "text/html": [
       "<div>\n",
       "<style scoped>\n",
       "    .dataframe tbody tr th:only-of-type {\n",
       "        vertical-align: middle;\n",
       "    }\n",
       "\n",
       "    .dataframe tbody tr th {\n",
       "        vertical-align: top;\n",
       "    }\n",
       "\n",
       "    .dataframe thead th {\n",
       "        text-align: right;\n",
       "    }\n",
       "</style>\n",
       "<table border=\"1\" class=\"dataframe\">\n",
       "  <thead>\n",
       "    <tr style=\"text-align: right;\">\n",
       "      <th></th>\n",
       "      <th>userId_movieId</th>\n",
       "      <th>rating</th>\n",
       "      <th>userId</th>\n",
       "      <th>id</th>\n",
       "    </tr>\n",
       "  </thead>\n",
       "  <tbody>\n",
       "    <tr>\n",
       "      <th>0</th>\n",
       "      <td>10_1358</td>\n",
       "      <td>0.4</td>\n",
       "      <td>10</td>\n",
       "      <td>1358</td>\n",
       "    </tr>\n",
       "    <tr>\n",
       "      <th>1</th>\n",
       "      <td>237_1544</td>\n",
       "      <td>0.7</td>\n",
       "      <td>237</td>\n",
       "      <td>1544</td>\n",
       "    </tr>\n",
       "  </tbody>\n",
       "</table>\n",
       "</div>"
      ],
      "text/plain": [
       "  userId_movieId  rating userId    id\n",
       "0        10_1358     0.4     10  1358\n",
       "1       237_1544     0.7    237  1544"
      ]
     },
     "execution_count": 44,
     "metadata": {},
     "output_type": "execute_result"
    }
   ],
   "source": [
    "df_filtered.head(2)"
   ]
  },
  {
   "cell_type": "code",
   "execution_count": 45,
   "id": "a15f65a6",
   "metadata": {
    "execution": {
     "iopub.execute_input": "2023-03-04T00:58:55.464222Z",
     "iopub.status.busy": "2023-03-04T00:58:55.463509Z",
     "iopub.status.idle": "2023-03-04T00:58:55.475015Z",
     "shell.execute_reply": "2023-03-04T00:58:55.473225Z"
    },
    "papermill": {
     "duration": 0.040356,
     "end_time": "2023-03-04T00:58:55.477419",
     "exception": false,
     "start_time": "2023-03-04T00:58:55.437063",
     "status": "completed"
    },
    "tags": []
   },
   "outputs": [
    {
     "data": {
      "text/html": [
       "<div>\n",
       "<style scoped>\n",
       "    .dataframe tbody tr th:only-of-type {\n",
       "        vertical-align: middle;\n",
       "    }\n",
       "\n",
       "    .dataframe tbody tr th {\n",
       "        vertical-align: top;\n",
       "    }\n",
       "\n",
       "    .dataframe thead th {\n",
       "        text-align: right;\n",
       "    }\n",
       "</style>\n",
       "<table border=\"1\" class=\"dataframe\">\n",
       "  <thead>\n",
       "    <tr style=\"text-align: right;\">\n",
       "      <th></th>\n",
       "      <th>userId_movieId</th>\n",
       "    </tr>\n",
       "  </thead>\n",
       "  <tbody>\n",
       "    <tr>\n",
       "      <th>0</th>\n",
       "      <td>469_2124</td>\n",
       "    </tr>\n",
       "    <tr>\n",
       "      <th>1</th>\n",
       "      <td>439_3753</td>\n",
       "    </tr>\n",
       "  </tbody>\n",
       "</table>\n",
       "</div>"
      ],
      "text/plain": [
       "  userId_movieId\n",
       "0       469_2124\n",
       "1       439_3753"
      ]
     },
     "execution_count": 45,
     "metadata": {},
     "output_type": "execute_result"
    }
   ],
   "source": [
    "df_test.head(2)"
   ]
  },
  {
   "cell_type": "code",
   "execution_count": 46,
   "id": "d613d0da",
   "metadata": {
    "execution": {
     "iopub.execute_input": "2023-03-04T00:58:55.529791Z",
     "iopub.status.busy": "2023-03-04T00:58:55.528842Z",
     "iopub.status.idle": "2023-03-04T00:58:55.533039Z",
     "shell.execute_reply": "2023-03-04T00:58:55.532211Z"
    },
    "papermill": {
     "duration": 0.032455,
     "end_time": "2023-03-04T00:58:55.535168",
     "exception": false,
     "start_time": "2023-03-04T00:58:55.502713",
     "status": "completed"
    },
    "tags": []
   },
   "outputs": [],
   "source": [
    "#df_test[['userId','id']] = df_test.userId_movieId.str.split(\"_\", expand=True)"
   ]
  },
  {
   "cell_type": "markdown",
   "id": "316feb93",
   "metadata": {
    "papermill": {
     "duration": 0.024967,
     "end_time": "2023-03-04T00:58:55.585485",
     "exception": false,
     "start_time": "2023-03-04T00:58:55.560518",
     "status": "completed"
    },
    "tags": []
   },
   "source": [
    "# Choosing features for *X* ['user_id', 'movie_id', 'budget'] and *y* for our label (What we want to predict - which is hwo user like the movie, 'rating')"
   ]
  },
  {
   "cell_type": "code",
   "execution_count": null,
   "id": "ce78ae16",
   "metadata": {
    "papermill": {
     "duration": 0.024464,
     "end_time": "2023-03-04T00:58:55.634717",
     "exception": false,
     "start_time": "2023-03-04T00:58:55.610253",
     "status": "completed"
    },
    "tags": []
   },
   "outputs": [],
   "source": []
  },
  {
   "cell_type": "code",
   "execution_count": 47,
   "id": "ee2fcffd",
   "metadata": {
    "execution": {
     "iopub.execute_input": "2023-03-04T00:58:55.687406Z",
     "iopub.status.busy": "2023-03-04T00:58:55.685979Z",
     "iopub.status.idle": "2023-03-04T00:58:55.692610Z",
     "shell.execute_reply": "2023-03-04T00:58:55.691702Z"
    },
    "papermill": {
     "duration": 0.035682,
     "end_time": "2023-03-04T00:58:55.695371",
     "exception": false,
     "start_time": "2023-03-04T00:58:55.659689",
     "status": "completed"
    },
    "tags": []
   },
   "outputs": [],
   "source": [
    "#features = [\"userId\",\"id\"]\n",
    "X = df_filtered['userId_movieId']\n",
    "y =df_filtered['rating']\n",
    "X_test = df_test['userId_movieId']"
   ]
  },
  {
   "cell_type": "code",
   "execution_count": 48,
   "id": "3763b01e",
   "metadata": {
    "execution": {
     "iopub.execute_input": "2023-03-04T00:58:55.747314Z",
     "iopub.status.busy": "2023-03-04T00:58:55.746867Z",
     "iopub.status.idle": "2023-03-04T00:58:55.753483Z",
     "shell.execute_reply": "2023-03-04T00:58:55.752595Z"
    },
    "papermill": {
     "duration": 0.035226,
     "end_time": "2023-03-04T00:58:55.755625",
     "exception": false,
     "start_time": "2023-03-04T00:58:55.720399",
     "status": "completed"
    },
    "tags": []
   },
   "outputs": [
    {
     "data": {
      "text/plain": [
       "(66938,)"
      ]
     },
     "execution_count": 48,
     "metadata": {},
     "output_type": "execute_result"
    }
   ],
   "source": [
    "y.shape"
   ]
  },
  {
   "cell_type": "code",
   "execution_count": 49,
   "id": "5811be4d",
   "metadata": {
    "execution": {
     "iopub.execute_input": "2023-03-04T00:58:55.808094Z",
     "iopub.status.busy": "2023-03-04T00:58:55.807640Z",
     "iopub.status.idle": "2023-03-04T00:58:55.814671Z",
     "shell.execute_reply": "2023-03-04T00:58:55.813479Z"
    },
    "papermill": {
     "duration": 0.036364,
     "end_time": "2023-03-04T00:58:55.817240",
     "exception": false,
     "start_time": "2023-03-04T00:58:55.780876",
     "status": "completed"
    },
    "tags": []
   },
   "outputs": [
    {
     "data": {
      "text/plain": [
       "(66938,)"
      ]
     },
     "execution_count": 49,
     "metadata": {},
     "output_type": "execute_result"
    }
   ],
   "source": [
    "X.shape"
   ]
  },
  {
   "cell_type": "code",
   "execution_count": 50,
   "id": "8e35f1ba",
   "metadata": {
    "execution": {
     "iopub.execute_input": "2023-03-04T00:58:55.870424Z",
     "iopub.status.busy": "2023-03-04T00:58:55.869555Z",
     "iopub.status.idle": "2023-03-04T00:58:55.876950Z",
     "shell.execute_reply": "2023-03-04T00:58:55.876011Z"
    },
    "papermill": {
     "duration": 0.036646,
     "end_time": "2023-03-04T00:58:55.879306",
     "exception": false,
     "start_time": "2023-03-04T00:58:55.842660",
     "status": "completed"
    },
    "tags": []
   },
   "outputs": [
    {
     "data": {
      "text/plain": [
       "(30002,)"
      ]
     },
     "execution_count": 50,
     "metadata": {},
     "output_type": "execute_result"
    }
   ],
   "source": [
    "X_test.shape"
   ]
  },
  {
   "cell_type": "code",
   "execution_count": 51,
   "id": "7ff19bb8",
   "metadata": {
    "execution": {
     "iopub.execute_input": "2023-03-04T00:58:55.933137Z",
     "iopub.status.busy": "2023-03-04T00:58:55.932262Z",
     "iopub.status.idle": "2023-03-04T00:58:55.937629Z",
     "shell.execute_reply": "2023-03-04T00:58:55.936799Z"
    },
    "papermill": {
     "duration": 0.035225,
     "end_time": "2023-03-04T00:58:55.939958",
     "exception": false,
     "start_time": "2023-03-04T00:58:55.904733",
     "status": "completed"
    },
    "tags": []
   },
   "outputs": [],
   "source": [
    "X = X.values.reshape(-1,1)"
   ]
  },
  {
   "cell_type": "code",
   "execution_count": 52,
   "id": "be711dfc",
   "metadata": {
    "execution": {
     "iopub.execute_input": "2023-03-04T00:58:55.992826Z",
     "iopub.status.busy": "2023-03-04T00:58:55.992387Z",
     "iopub.status.idle": "2023-03-04T00:58:55.999579Z",
     "shell.execute_reply": "2023-03-04T00:58:55.998296Z"
    },
    "papermill": {
     "duration": 0.036722,
     "end_time": "2023-03-04T00:58:56.002114",
     "exception": false,
     "start_time": "2023-03-04T00:58:55.965392",
     "status": "completed"
    },
    "tags": []
   },
   "outputs": [
    {
     "data": {
      "text/plain": [
       "(66938, 1)"
      ]
     },
     "execution_count": 52,
     "metadata": {},
     "output_type": "execute_result"
    }
   ],
   "source": [
    "X.shape"
   ]
  },
  {
   "cell_type": "code",
   "execution_count": null,
   "id": "15d1c3f9",
   "metadata": {
    "papermill": {
     "duration": 0.025364,
     "end_time": "2023-03-04T00:58:56.052822",
     "exception": false,
     "start_time": "2023-03-04T00:58:56.027458",
     "status": "completed"
    },
    "tags": []
   },
   "outputs": [],
   "source": []
  },
  {
   "cell_type": "code",
   "execution_count": 53,
   "id": "b4240344",
   "metadata": {
    "execution": {
     "iopub.execute_input": "2023-03-04T00:58:56.106257Z",
     "iopub.status.busy": "2023-03-04T00:58:56.105389Z",
     "iopub.status.idle": "2023-03-04T00:58:56.110686Z",
     "shell.execute_reply": "2023-03-04T00:58:56.109827Z"
    },
    "papermill": {
     "duration": 0.034728,
     "end_time": "2023-03-04T00:58:56.113028",
     "exception": false,
     "start_time": "2023-03-04T00:58:56.078300",
     "status": "completed"
    },
    "tags": []
   },
   "outputs": [],
   "source": [
    "X_test = df_test['userId_movieId']"
   ]
  },
  {
   "cell_type": "code",
   "execution_count": 54,
   "id": "1222ee2f",
   "metadata": {
    "execution": {
     "iopub.execute_input": "2023-03-04T00:58:56.166508Z",
     "iopub.status.busy": "2023-03-04T00:58:56.165649Z",
     "iopub.status.idle": "2023-03-04T00:58:56.172798Z",
     "shell.execute_reply": "2023-03-04T00:58:56.171841Z"
    },
    "papermill": {
     "duration": 0.036618,
     "end_time": "2023-03-04T00:58:56.175037",
     "exception": false,
     "start_time": "2023-03-04T00:58:56.138419",
     "status": "completed"
    },
    "tags": []
   },
   "outputs": [
    {
     "data": {
      "text/plain": [
       "(30002,)"
      ]
     },
     "execution_count": 54,
     "metadata": {},
     "output_type": "execute_result"
    }
   ],
   "source": [
    "X_test.shape"
   ]
  },
  {
   "cell_type": "code",
   "execution_count": 55,
   "id": "66179e1c",
   "metadata": {
    "execution": {
     "iopub.execute_input": "2023-03-04T00:58:56.228770Z",
     "iopub.status.busy": "2023-03-04T00:58:56.227726Z",
     "iopub.status.idle": "2023-03-04T00:58:56.669565Z",
     "shell.execute_reply": "2023-03-04T00:58:56.668299Z"
    },
    "papermill": {
     "duration": 0.471369,
     "end_time": "2023-03-04T00:58:56.672045",
     "exception": false,
     "start_time": "2023-03-04T00:58:56.200676",
     "status": "completed"
    },
    "tags": []
   },
   "outputs": [
    {
     "data": {
      "text/plain": [
       "KNeighborsRegressor()"
      ]
     },
     "execution_count": 55,
     "metadata": {},
     "output_type": "execute_result"
    }
   ],
   "source": [
    "from sklearn.neighbors import KNeighborsRegressor\n",
    "modelk = KNeighborsRegressor(n_neighbors=5)\n",
    "modelk.fit(X, y)"
   ]
  },
  {
   "cell_type": "code",
   "execution_count": 56,
   "id": "16cfc85e",
   "metadata": {
    "execution": {
     "iopub.execute_input": "2023-03-04T00:58:56.726228Z",
     "iopub.status.busy": "2023-03-04T00:58:56.725023Z",
     "iopub.status.idle": "2023-03-04T00:58:56.730224Z",
     "shell.execute_reply": "2023-03-04T00:58:56.729264Z"
    },
    "papermill": {
     "duration": 0.034774,
     "end_time": "2023-03-04T00:58:56.732617",
     "exception": false,
     "start_time": "2023-03-04T00:58:56.697843",
     "status": "completed"
    },
    "tags": []
   },
   "outputs": [],
   "source": [
    "X_test = X_test.values.reshape(-1,1)"
   ]
  },
  {
   "cell_type": "code",
   "execution_count": 57,
   "id": "b565a978",
   "metadata": {
    "execution": {
     "iopub.execute_input": "2023-03-04T00:58:56.786839Z",
     "iopub.status.busy": "2023-03-04T00:58:56.786114Z",
     "iopub.status.idle": "2023-03-04T00:58:56.852832Z",
     "shell.execute_reply": "2023-03-04T00:58:56.851507Z"
    },
    "papermill": {
     "duration": 0.097335,
     "end_time": "2023-03-04T00:58:56.855800",
     "exception": false,
     "start_time": "2023-03-04T00:58:56.758465",
     "status": "completed"
    },
    "tags": []
   },
   "outputs": [],
   "source": [
    "pred_k = modelk.predict(X_test)"
   ]
  },
  {
   "cell_type": "code",
   "execution_count": 58,
   "id": "b7e3c730",
   "metadata": {
    "execution": {
     "iopub.execute_input": "2023-03-04T00:58:56.908753Z",
     "iopub.status.busy": "2023-03-04T00:58:56.908327Z",
     "iopub.status.idle": "2023-03-04T00:58:56.913658Z",
     "shell.execute_reply": "2023-03-04T00:58:56.912443Z"
    },
    "papermill": {
     "duration": 0.034959,
     "end_time": "2023-03-04T00:58:56.916378",
     "exception": false,
     "start_time": "2023-03-04T00:58:56.881419",
     "status": "completed"
    },
    "tags": []
   },
   "outputs": [],
   "source": [
    "y =y.values.reshape(-1,1)\n"
   ]
  },
  {
   "cell_type": "code",
   "execution_count": 59,
   "id": "d2360024",
   "metadata": {
    "execution": {
     "iopub.execute_input": "2023-03-04T00:58:56.970062Z",
     "iopub.status.busy": "2023-03-04T00:58:56.969620Z",
     "iopub.status.idle": "2023-03-04T00:58:56.975294Z",
     "shell.execute_reply": "2023-03-04T00:58:56.974059Z"
    },
    "papermill": {
     "duration": 0.035136,
     "end_time": "2023-03-04T00:58:56.977648",
     "exception": false,
     "start_time": "2023-03-04T00:58:56.942512",
     "status": "completed"
    },
    "tags": []
   },
   "outputs": [],
   "source": [
    "pred_k = pred_k.reshape(-1,1)"
   ]
  },
  {
   "cell_type": "code",
   "execution_count": 60,
   "id": "2a94ebab",
   "metadata": {
    "execution": {
     "iopub.execute_input": "2023-03-04T00:58:57.032202Z",
     "iopub.status.busy": "2023-03-04T00:58:57.030969Z",
     "iopub.status.idle": "2023-03-04T00:58:57.037945Z",
     "shell.execute_reply": "2023-03-04T00:58:57.036710Z"
    },
    "papermill": {
     "duration": 0.036808,
     "end_time": "2023-03-04T00:58:57.040339",
     "exception": false,
     "start_time": "2023-03-04T00:58:57.003531",
     "status": "completed"
    },
    "tags": []
   },
   "outputs": [
    {
     "data": {
      "text/plain": [
       "(66938, 1)"
      ]
     },
     "execution_count": 60,
     "metadata": {},
     "output_type": "execute_result"
    }
   ],
   "source": [
    "y.shape"
   ]
  },
  {
   "cell_type": "code",
   "execution_count": 61,
   "id": "02143288",
   "metadata": {
    "execution": {
     "iopub.execute_input": "2023-03-04T00:58:57.093707Z",
     "iopub.status.busy": "2023-03-04T00:58:57.093282Z",
     "iopub.status.idle": "2023-03-04T00:58:57.099260Z",
     "shell.execute_reply": "2023-03-04T00:58:57.098412Z"
    },
    "papermill": {
     "duration": 0.035333,
     "end_time": "2023-03-04T00:58:57.101431",
     "exception": false,
     "start_time": "2023-03-04T00:58:57.066098",
     "status": "completed"
    },
    "tags": []
   },
   "outputs": [
    {
     "data": {
      "text/plain": [
       "(30002, 1)"
      ]
     },
     "execution_count": 61,
     "metadata": {},
     "output_type": "execute_result"
    }
   ],
   "source": [
    "pred_k.shape"
   ]
  },
  {
   "cell_type": "code",
   "execution_count": 62,
   "id": "c3da4964",
   "metadata": {
    "execution": {
     "iopub.execute_input": "2023-03-04T00:58:57.154939Z",
     "iopub.status.busy": "2023-03-04T00:58:57.154493Z",
     "iopub.status.idle": "2023-03-04T00:58:57.158956Z",
     "shell.execute_reply": "2023-03-04T00:58:57.158092Z"
    },
    "papermill": {
     "duration": 0.034119,
     "end_time": "2023-03-04T00:58:57.161319",
     "exception": false,
     "start_time": "2023-03-04T00:58:57.127200",
     "status": "completed"
    },
    "tags": []
   },
   "outputs": [],
   "source": [
    "#from sklearn.metrics import accuracy_score \n",
    "#modelk.score(y, pred_k, sample_weight=None)\n",
    "#ValueError: X has 1 features, but KNeighborsRegressor is expecting 2 features as input."
   ]
  },
  {
   "cell_type": "code",
   "execution_count": 63,
   "id": "825cbfd7",
   "metadata": {
    "execution": {
     "iopub.execute_input": "2023-03-04T00:58:57.216250Z",
     "iopub.status.busy": "2023-03-04T00:58:57.215510Z",
     "iopub.status.idle": "2023-03-04T00:58:57.223492Z",
     "shell.execute_reply": "2023-03-04T00:58:57.221427Z"
    },
    "papermill": {
     "duration": 0.038568,
     "end_time": "2023-03-04T00:58:57.225759",
     "exception": false,
     "start_time": "2023-03-04T00:58:57.187191",
     "status": "completed"
    },
    "tags": []
   },
   "outputs": [
    {
     "data": {
      "text/plain": [
       "(30002, 1)"
      ]
     },
     "execution_count": 63,
     "metadata": {},
     "output_type": "execute_result"
    }
   ],
   "source": [
    "X_test.shape"
   ]
  },
  {
   "cell_type": "code",
   "execution_count": 64,
   "id": "b1c689da",
   "metadata": {
    "execution": {
     "iopub.execute_input": "2023-03-04T00:58:57.279931Z",
     "iopub.status.busy": "2023-03-04T00:58:57.279525Z",
     "iopub.status.idle": "2023-03-04T00:58:57.290815Z",
     "shell.execute_reply": "2023-03-04T00:58:57.289924Z"
    },
    "papermill": {
     "duration": 0.041182,
     "end_time": "2023-03-04T00:58:57.292930",
     "exception": false,
     "start_time": "2023-03-04T00:58:57.251748",
     "status": "completed"
    },
    "tags": []
   },
   "outputs": [
    {
     "data": {
      "text/html": [
       "<div>\n",
       "<style scoped>\n",
       "    .dataframe tbody tr th:only-of-type {\n",
       "        vertical-align: middle;\n",
       "    }\n",
       "\n",
       "    .dataframe tbody tr th {\n",
       "        vertical-align: top;\n",
       "    }\n",
       "\n",
       "    .dataframe thead th {\n",
       "        text-align: right;\n",
       "    }\n",
       "</style>\n",
       "<table border=\"1\" class=\"dataframe\">\n",
       "  <thead>\n",
       "    <tr style=\"text-align: right;\">\n",
       "      <th></th>\n",
       "      <th>userId_movieId</th>\n",
       "    </tr>\n",
       "  </thead>\n",
       "  <tbody>\n",
       "    <tr>\n",
       "      <th>0</th>\n",
       "      <td>469_2124</td>\n",
       "    </tr>\n",
       "    <tr>\n",
       "      <th>1</th>\n",
       "      <td>439_3753</td>\n",
       "    </tr>\n",
       "  </tbody>\n",
       "</table>\n",
       "</div>"
      ],
      "text/plain": [
       "  userId_movieId\n",
       "0       469_2124\n",
       "1       439_3753"
      ]
     },
     "execution_count": 64,
     "metadata": {},
     "output_type": "execute_result"
    }
   ],
   "source": [
    "#create DF using userID as base which was x_test\n",
    "\n",
    "# Import pandas library\n",
    "import pandas as pd\n",
    "  \n",
    "# initialize list elements\n",
    "  \n",
    "# Create the pandas DataFrame with column name is provided explicitly\n",
    "df_final = pd.DataFrame(df_test['userId_movieId'], columns=['userId_movieId'])\n",
    "\n",
    "  \n",
    "# print dataframe.\n",
    "df_final.head(2)"
   ]
  },
  {
   "cell_type": "code",
   "execution_count": 65,
   "id": "c542fb70",
   "metadata": {
    "execution": {
     "iopub.execute_input": "2023-03-04T00:58:57.347296Z",
     "iopub.status.busy": "2023-03-04T00:58:57.346807Z",
     "iopub.status.idle": "2023-03-04T00:58:57.353072Z",
     "shell.execute_reply": "2023-03-04T00:58:57.351782Z"
    },
    "papermill": {
     "duration": 0.036302,
     "end_time": "2023-03-04T00:58:57.355616",
     "exception": false,
     "start_time": "2023-03-04T00:58:57.319314",
     "status": "completed"
    },
    "tags": []
   },
   "outputs": [],
   "source": [
    "df_final['rating'] = pred_k"
   ]
  },
  {
   "cell_type": "code",
   "execution_count": 66,
   "id": "40cdd67f",
   "metadata": {
    "execution": {
     "iopub.execute_input": "2023-03-04T00:58:57.411934Z",
     "iopub.status.busy": "2023-03-04T00:58:57.410703Z",
     "iopub.status.idle": "2023-03-04T00:58:57.422681Z",
     "shell.execute_reply": "2023-03-04T00:58:57.421496Z"
    },
    "papermill": {
     "duration": 0.042322,
     "end_time": "2023-03-04T00:58:57.425019",
     "exception": false,
     "start_time": "2023-03-04T00:58:57.382697",
     "status": "completed"
    },
    "tags": []
   },
   "outputs": [
    {
     "data": {
      "text/html": [
       "<div>\n",
       "<style scoped>\n",
       "    .dataframe tbody tr th:only-of-type {\n",
       "        vertical-align: middle;\n",
       "    }\n",
       "\n",
       "    .dataframe tbody tr th {\n",
       "        vertical-align: top;\n",
       "    }\n",
       "\n",
       "    .dataframe thead th {\n",
       "        text-align: right;\n",
       "    }\n",
       "</style>\n",
       "<table border=\"1\" class=\"dataframe\">\n",
       "  <thead>\n",
       "    <tr style=\"text-align: right;\">\n",
       "      <th></th>\n",
       "      <th>userId_movieId</th>\n",
       "      <th>rating</th>\n",
       "    </tr>\n",
       "  </thead>\n",
       "  <tbody>\n",
       "    <tr>\n",
       "      <th>0</th>\n",
       "      <td>469_2124</td>\n",
       "      <td>0.76</td>\n",
       "    </tr>\n",
       "    <tr>\n",
       "      <th>1</th>\n",
       "      <td>439_3753</td>\n",
       "      <td>0.68</td>\n",
       "    </tr>\n",
       "  </tbody>\n",
       "</table>\n",
       "</div>"
      ],
      "text/plain": [
       "  userId_movieId  rating\n",
       "0       469_2124    0.76\n",
       "1       439_3753    0.68"
      ]
     },
     "execution_count": 66,
     "metadata": {},
     "output_type": "execute_result"
    }
   ],
   "source": [
    "df_final.head(2)"
   ]
  },
  {
   "cell_type": "code",
   "execution_count": 67,
   "id": "305b2783",
   "metadata": {
    "execution": {
     "iopub.execute_input": "2023-03-04T00:58:57.481199Z",
     "iopub.status.busy": "2023-03-04T00:58:57.480737Z",
     "iopub.status.idle": "2023-03-04T00:58:57.540692Z",
     "shell.execute_reply": "2023-03-04T00:58:57.539549Z"
    },
    "papermill": {
     "duration": 0.091747,
     "end_time": "2023-03-04T00:58:57.543471",
     "exception": false,
     "start_time": "2023-03-04T00:58:57.451724",
     "status": "completed"
    },
    "tags": []
   },
   "outputs": [],
   "source": [
    "df_final.to_csv(\"submission.csv\", index=False)"
   ]
  },
  {
   "cell_type": "code",
   "execution_count": 68,
   "id": "a20fe284",
   "metadata": {
    "execution": {
     "iopub.execute_input": "2023-03-04T00:58:57.598713Z",
     "iopub.status.busy": "2023-03-04T00:58:57.598257Z",
     "iopub.status.idle": "2023-03-04T00:58:57.602868Z",
     "shell.execute_reply": "2023-03-04T00:58:57.601594Z"
    },
    "papermill": {
     "duration": 0.035274,
     "end_time": "2023-03-04T00:58:57.605384",
     "exception": false,
     "start_time": "2023-03-04T00:58:57.570110",
     "status": "completed"
    },
    "tags": []
   },
   "outputs": [],
   "source": [
    "# I spotted an dtreated outliers \n",
    "#trieds split 2 features\n",
    "#trieds use a 1"
   ]
  }
 ],
 "metadata": {
  "kernelspec": {
   "display_name": "Python 3",
   "language": "python",
   "name": "python3"
  },
  "language_info": {
   "codemirror_mode": {
    "name": "ipython",
    "version": 3
   },
   "file_extension": ".py",
   "mimetype": "text/x-python",
   "name": "python",
   "nbconvert_exporter": "python",
   "pygments_lexer": "ipython3",
   "version": "3.7.12"
  },
  "papermill": {
   "default_parameters": {},
   "duration": 22.259824,
   "end_time": "2023-03-04T00:58:58.453988",
   "environment_variables": {},
   "exception": null,
   "input_path": "__notebook__.ipynb",
   "output_path": "__notebook__.ipynb",
   "parameters": {},
   "start_time": "2023-03-04T00:58:36.194164",
   "version": "2.4.0"
  }
 },
 "nbformat": 4,
 "nbformat_minor": 5
}
